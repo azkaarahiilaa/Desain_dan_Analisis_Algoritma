{
  "nbformat": 4,
  "nbformat_minor": 0,
  "metadata": {
    "colab": {
      "provenance": [],
      "authorship_tag": "ABX9TyOuY1zVXofLFve0qSi0i0Or",
      "include_colab_link": true
    },
    "kernelspec": {
      "name": "python3",
      "display_name": "Python 3"
    },
    "language_info": {
      "name": "python"
    }
  },
  "cells": [
    {
      "cell_type": "markdown",
      "metadata": {
        "id": "view-in-github",
        "colab_type": "text"
      },
      "source": [
        "<a href=\"https://colab.research.google.com/github/azkaarahiilaa/Desain_dan_Analisis_Algoritma/blob/main/Tugas4.ipynb\" target=\"_parent\"><img src=\"https://colab.research.google.com/assets/colab-badge.svg\" alt=\"Open In Colab\"/></a>"
      ]
    },
    {
      "cell_type": "code",
      "execution_count": null,
      "metadata": {
        "colab": {
          "base_uri": "https://localhost:8080/"
        },
        "id": "6lSUbhHKkex7",
        "outputId": "3cc682e4-3a66-402d-8a55-e54e4767a922"
      },
      "outputs": [
        {
          "output_type": "stream",
          "name": "stdout",
          "text": [
            "2 1\n"
          ]
        }
      ],
      "source": [
        "#swap function\n",
        "var1=1\n",
        "var2=2\n",
        "var1,var2=var2,var1\n",
        "print(var1,var2)"
      ]
    },
    {
      "cell_type": "code",
      "source": [
        "#swap function\n",
        "var1=1\n",
        "var2=2\n",
        "var3=3\n",
        "var1,var2,var3=var3,var2,var1\n",
        "print(var1,var2,var3)"
      ],
      "metadata": {
        "colab": {
          "base_uri": "https://localhost:8080/"
        },
        "id": "LCzo_SJEk5NP",
        "outputId": "6c62ede2-4e32-4c99-cfb5-fb643ed465e8"
      },
      "execution_count": null,
      "outputs": [
        {
          "output_type": "stream",
          "name": "stdout",
          "text": [
            "3 2 1\n"
          ]
        }
      ]
    },
    {
      "cell_type": "code",
      "source": [
        "list=[25,21,22,24,23,27,26]\n",
        "#proses penukaran oleh bubble sort\n",
        "lasRlementIndex = len(list)-1\n",
        "print(0,list)\n",
        "for idx in range(lasRlementIndex):\n",
        "  if list[idx]>list[idx+1]:\n",
        "    list[idx],list[idx+1]=list[idx+1],list[idx]\n",
        "    print(idx+1,list)"
      ],
      "metadata": {
        "colab": {
          "base_uri": "https://localhost:8080/"
        },
        "id": "mHyoiGMqlGDD",
        "outputId": "72d73e71-acbc-459e-8d72-2fe14aac6c6c"
      },
      "execution_count": null,
      "outputs": [
        {
          "output_type": "stream",
          "name": "stdout",
          "text": [
            "0 [25, 21, 22, 24, 23, 27, 26]\n",
            "1 [21, 25, 22, 24, 23, 27, 26]\n",
            "2 [21, 22, 25, 24, 23, 27, 26]\n",
            "3 [21, 22, 24, 25, 23, 27, 26]\n",
            "4 [21, 22, 24, 23, 25, 27, 26]\n",
            "6 [21, 22, 24, 23, 25, 26, 27]\n"
          ]
        }
      ]
    },
    {
      "cell_type": "code",
      "source": [
        "def BubbleSort(list):\n",
        "# exchange the elements to arrange in order\n",
        "    lasElementIndex=len(list)-1\n",
        "    for passNO in range(lasElementIndex,0,-1):\n",
        "        for idx in range(passNO):\n",
        "            if list[idx]>list[idx+1]:\n",
        "                list[idx],list[idx+1]=list[idx+1],list[idx]\n",
        "    return list\n",
        "# masukkan angka dengan urutan lainnya\n",
        "list = [25,21,22,24,23,27,26]\n",
        "print (list)\n",
        "print(BubbleSort(list))\n",
        ""
      ],
      "metadata": {
        "id": "M3WFn7u_mKsw",
        "colab": {
          "base_uri": "https://localhost:8080/"
        },
        "outputId": "69a73502-4d84-4965-fc7d-1cecced840a8"
      },
      "execution_count": 123,
      "outputs": [
        {
          "output_type": "stream",
          "name": "stdout",
          "text": [
            "[25, 21, 22, 24, 23, 27, 26]\n",
            "[21, 22, 23, 24, 25, 26, 27]\n"
          ]
        }
      ]
    },
    {
      "cell_type": "code",
      "source": [
        "#urutkan deretan bilangan dibawah menggunakan Bubblesort\n",
        "list = [100, 20, 60, 90, 40, 30, 10]\n",
        "def bubble_sort(list):\n",
        "    n = len(list)\n",
        "\n",
        "    for i in range(n):\n",
        "        for j in range(0, n - i - 1):\n",
        "            if list[j] > list[j + 1]:\n",
        "                list[j], list[j + 1] = list[j + 1], list[j]\n",
        "bubble_sort(list)\n",
        "print(\"Deret bilangan setelah diurutkan:\")\n",
        "print(list)\n"
      ],
      "metadata": {
        "colab": {
          "base_uri": "https://localhost:8080/"
        },
        "id": "k6brBeLwnuCC",
        "outputId": "61e3ccd1-7736-46b8-c091-765921e9d0f6"
      },
      "execution_count": 27,
      "outputs": [
        {
          "output_type": "stream",
          "name": "stdout",
          "text": [
            "Deret bilangan setelah diurutkan:\n",
            "[10, 20, 30, 40, 60, 90, 100]\n"
          ]
        }
      ]
    },
    {
      "cell_type": "code",
      "source": [
        "def InsertionSort(list):\n",
        "    for i in range(1, len(list)):\n",
        "        j=i-1\n",
        "        next = list[1]\n",
        "# compare the current element with next one\n",
        "\n",
        "        while (list[j] > next) and (j>= 0):\n",
        "            list[j+1] = list [j]\n",
        "            j = j-1\n",
        "        list [j+1]= next\n",
        "    return list\n",
        "\n",
        "# masukkan angka dengan urutan lainnya\n",
        "list = [35,31,32,34,33,37,36]\n",
        "print (list)\n",
        "print (InsertionSort(list))\n",
        "\n"
      ],
      "metadata": {
        "id": "rrDnIIKHojQa",
        "colab": {
          "base_uri": "https://localhost:8080/"
        },
        "outputId": "e78146d1-c350-46ca-a5a4-c2424c39343c"
      },
      "execution_count": 120,
      "outputs": [
        {
          "output_type": "stream",
          "name": "stdout",
          "text": [
            "[35, 31, 32, 34, 33, 37, 36]\n",
            "[31, 35, 35, 35, 35, 35, 35]\n"
          ]
        }
      ]
    },
    {
      "cell_type": "code",
      "source": [
        "list = [25,26,22,24,27,23,21]\n",
        "InsertionSort(list)\n",
        "print(list)"
      ],
      "metadata": {
        "colab": {
          "base_uri": "https://localhost:8080/"
        },
        "id": "EsPdQf1mroH9",
        "outputId": "1b2b9a46-71e2-4fc4-957c-a26c6069111b"
      },
      "execution_count": null,
      "outputs": [
        {
          "output_type": "stream",
          "name": "stdout",
          "text": [
            "[25, 26, 22, 24, 27, 23, 21]\n"
          ]
        }
      ]
    },
    {
      "cell_type": "code",
      "source": [
        "list = [89, 12, 57, 16, 25, 11, 75]\n",
        "def insertion_sort(arr):\n",
        "    for i in range(1, len(arr)):\n",
        "        key = arr[i]\n",
        "        j = i - 1\n",
        "        while j >= 0 and key < arr[j]:\n",
        "            arr[j + 1] = arr[j]\n",
        "            j -= 1\n",
        "        arr[j + 1] = key\n",
        "\n",
        "insertion_sort(list)\n",
        "print(\"Deret bilangan setelah diurutkan:\")\n",
        "print(list)\n"
      ],
      "metadata": {
        "colab": {
          "base_uri": "https://localhost:8080/"
        },
        "id": "3-_b07zgsHmG",
        "outputId": "a4c90257-37e8-4ec5-fdb8-e4b674faca88"
      },
      "execution_count": 29,
      "outputs": [
        {
          "output_type": "stream",
          "name": "stdout",
          "text": [
            "Deret bilangan setelah diurutkan:\n",
            "[11, 12, 16, 25, 57, 75, 89]\n"
          ]
        }
      ]
    },
    {
      "cell_type": "code",
      "source": [
        "def SelectionSort(list):\n",
        "    for fill_slot in range(len(list) -1, 0, -1):\n",
        "        max_index = 0\n",
        "        for location in range(1,fill_slot + 1):\n",
        "            if list [location] > list[max_index]:\n",
        "                max_index = location\n",
        "        list[fill_slot], list[max_index] = list[max_index], list[fill_slot]\n",
        "    return list"
      ],
      "metadata": {
        "id": "sJ8khlXAtK47"
      },
      "execution_count": 117,
      "outputs": []
    },
    {
      "cell_type": "code",
      "source": [
        "list = [70,15,25,19,34,44]\n",
        "SelectionSort(list)\n",
        "print(list)"
      ],
      "metadata": {
        "colab": {
          "base_uri": "https://localhost:8080/"
        },
        "id": "M-BlMMaUMZAN",
        "outputId": "32deb821-9dfb-48e5-84ab-a7c2f2fea208"
      },
      "execution_count": null,
      "outputs": [
        {
          "output_type": "stream",
          "name": "stdout",
          "text": [
            "[70, 15, 25, 19, 34, 44]\n",
            "[15, 19, 25, 34, 44, 70]\n"
          ]
        }
      ]
    },
    {
      "cell_type": "code",
      "source": [
        "def LinearSearch(list, item):\n",
        "  index = 0\n",
        "  found = False\n",
        "\n",
        "# match the value with each data and element\n",
        "  while index < len(list) and found is False:\n",
        "    if list [index] == item :\n",
        "        found = True\n",
        "    else:\n",
        "      index = index + 1\n",
        "  return found\n",
        "\n",
        "list = [12,33,11,99,55,90]\n",
        "print(LinearSearch(list, 12))\n",
        "print(LinearSearch(list, 91))"
      ],
      "metadata": {
        "colab": {
          "base_uri": "https://localhost:8080/"
        },
        "id": "bNmFhdKWnuOO",
        "outputId": "5d5957ba-98f5-4bfb-d9b2-f1af63c34778"
      },
      "execution_count": 84,
      "outputs": [
        {
          "output_type": "stream",
          "name": "stdout",
          "text": [
            "True\n",
            "False\n"
          ]
        }
      ]
    },
    {
      "cell_type": "code",
      "source": [
        "list = ['y', 'u', 'i', 'w', 'o', 'a', 'q', 'u', 'j', 'p']\n",
        "def linear_search(arr, target):\n",
        "    for i in range(len(arr)):\n",
        "        if arr[i] == target:\n",
        "            return i\n",
        "    return -1  # Mengembalikan -1 jika elemen tidak ditemukan\n",
        "\n",
        "target_huruf = 'a'\n",
        "indeks = linear_search(list, target_huruf)\n",
        "\n",
        "if indeks != -1:\n",
        "    print(f\"Huruf '{target_huruf}' ditemukan pada indeks {indeks}.\")\n",
        "else:\n",
        "    print(f\"Huruf '{target_huruf}' tidak ditemukan dalam deret huruf.\")\n"
      ],
      "metadata": {
        "colab": {
          "base_uri": "https://localhost:8080/"
        },
        "id": "550uujypOKXF",
        "outputId": "b4296778-fd43-4548-c61d-0852dde274a5"
      },
      "execution_count": 28,
      "outputs": [
        {
          "output_type": "stream",
          "name": "stdout",
          "text": [
            "Huruf 'a' ditemukan pada indeks 5.\n"
          ]
        }
      ]
    },
    {
      "cell_type": "code",
      "source": [
        "def BinarySearch(list, item):\n",
        "    first=0\n",
        "    last=len(list)-1\n",
        "    found = False\n",
        "\n",
        "    while first<=last and not found:\n",
        "        midpoint = (first + last)//2\n",
        "        if list[midpoint] == item:\n",
        "            found = True\n",
        "        else:\n",
        "            if item < list[midpoint]:\n",
        "                last = midpoint-1\n",
        "            else:\n",
        "                first = midpoint+1\n",
        "    return found\n",
        "\n",
        "list = [12, 33, 11, 99, 22, 55, 90]\n",
        "print(BinarySearch(list, 12))\n",
        "print(BinarySearch(list, 91))"
      ],
      "metadata": {
        "colab": {
          "base_uri": "https://localhost:8080/"
        },
        "id": "3eR9UN85lYuB",
        "outputId": "c9e847ee-24fd-4c52-ba90-726c178d0ed7"
      },
      "execution_count": 116,
      "outputs": [
        {
          "output_type": "stream",
          "name": "stdout",
          "text": [
            "True\n",
            "False\n"
          ]
        }
      ]
    },
    {
      "cell_type": "code",
      "source": [
        "deret_huruf = ['y', 'u', 'i', 'w', 'o', 'a', 'q', 'u', 'j', 'p']\n",
        "def binary_search(arr, target):\n",
        "    low = 0\n",
        "    high = len(arr) - 1\n",
        "    while low <= high:\n",
        "        mid = (low + high) // 2\n",
        "        if arr[mid] == target:\n",
        "            return mid\n",
        "        elif arr[mid] < target:\n",
        "            low = mid + 1\n",
        "        else:\n",
        "            high = mid - 1\n",
        "\n",
        "    return -1\n",
        "deret_huruf.sort()\n",
        "target_huruf = 'a'\n",
        "indeks = binary_search(deret_huruf, target_huruf)\n",
        "\n",
        "if indeks != -1:\n",
        "      print(f\"Huruf '{target_huruf}' ditemukan pada indeks {indeks}.\")\n",
        "else:\n",
        "      print(f\"Huruf '{target_huruf}' tidak ditemukan dalam deret huruf.\")\n"
      ],
      "metadata": {
        "colab": {
          "base_uri": "https://localhost:8080/"
        },
        "id": "9IaKY9w0T6c0",
        "outputId": "bc9e7858-263c-4271-f82b-be3197463ca2"
      },
      "execution_count": 22,
      "outputs": [
        {
          "output_type": "stream",
          "name": "stdout",
          "text": [
            "Huruf 'a' ditemukan pada indeks 0.\n"
          ]
        }
      ]
    },
    {
      "cell_type": "code",
      "source": [],
      "metadata": {
        "id": "ieheFtEGMrpW"
      },
      "execution_count": null,
      "outputs": []
    },
    {
      "cell_type": "code",
      "source": [
        "deret = [89, 12, 57, 16, 25]\n",
        "def selection_sort(arr):\n",
        "    n = len(arr)\n",
        "    for i in range(n):\n",
        "        min_index = i\n",
        "        for j in range(i + 1, n):\n",
        "            if arr[j] < arr[min_index]:\n",
        "                min_index = j\n",
        "        arr[i], arr[min_index] = arr[min_index], arr[i]\n",
        "\n",
        "selection_sort(deret)\n",
        "print(\"Deret yang sudah diurutkan secara ascending:\")\n",
        "print(deret)\n"
      ],
      "metadata": {
        "colab": {
          "base_uri": "https://localhost:8080/"
        },
        "id": "We4hQyoFBYkH",
        "outputId": "b4825dbe-5854-49f4-b160-a48f7b7a3249"
      },
      "execution_count": 66,
      "outputs": [
        {
          "output_type": "stream",
          "name": "stdout",
          "text": [
            "Deret yang sudah diurutkan secara ascending:\n",
            "[12, 16, 25, 57, 89]\n"
          ]
        }
      ]
    },
    {
      "cell_type": "code",
      "source": [
        "def IntPolsearch(list, x):\n",
        "    idx0 = 0\n",
        "    idxn = (len(list) -1)\n",
        "    found = False\n",
        "    while idx0 <= idxn and x >= list [idx0] and x <= list [idxn]:\n",
        "\n",
        "# find the mid point\n",
        "      mid = idx0 + int(((float(idxn - idx0)/(list [idxn] - list[idx0])) * (x - list[idx0])))\n",
        "\n",
        "# compare the value at mid point with search value\n",
        "      if list [mid] == x:\n",
        "          found = True\n",
        "          return found\n",
        "\n",
        "      if list[mid] < x:\n",
        "          idx0 = mid +1\n",
        "    return found\n",
        "\n",
        "list = [12,33,11,99,22,55,90]\n",
        "print(IntPolsearch(list, 12))\n",
        "print(IntPolsearch(list, 91))\n",
        "\n"
      ],
      "metadata": {
        "colab": {
          "base_uri": "https://localhost:8080/"
        },
        "id": "W3pNn3LHBzRI",
        "outputId": "1a432501-6077-41a0-f2ba-dc1e141cea64"
      },
      "execution_count": 71,
      "outputs": [
        {
          "output_type": "stream",
          "name": "stdout",
          "text": [
            "True\n",
            "False\n"
          ]
        }
      ]
    },
    {
      "cell_type": "code",
      "source": [
        "list = ['y', 'u', 'i', 'w', 'o', 'a', 'q', 'u', 'j', 'p']\n",
        "def interpolation_search(arr, x):\n",
        "    low = 0\n",
        "    high = len(arr) - 1\n",
        "\n",
        "    while low <= high and list[low] <= x <= list[high]:\n",
        "        if low == high:\n",
        "            if arr[low] == x:\n",
        "                return low\n",
        "            return -1\n",
        "\n",
        "        pos = low + ((x - arr[low]) * (high - low)) // (arr[high] - arr[low])\n",
        "\n",
        "        if arr[pos] == x:\n",
        "            return pos\n",
        "        elif arr[pos] < x:\n",
        "            low = pos + 1\n",
        "        else:\n",
        "            high = pos - 1\n",
        "\n",
        "    return -1\n",
        "\n",
        "# Karakter yang ingin dicari\n",
        "cari = 'u'\n",
        "\n",
        "# Panggil fungsi interpolation_search untuk mencari huruf \"u\"\n",
        "hasil = interpolation_search(list, cari)\n",
        "\n",
        "if hasil != -1:\n",
        "    print(f\"'{cari}' ditemukan pada indeks ke-{hasil}\")\n",
        "else:\n",
        "    print(f\"'{cari}' tidak ditemukan dalam list tersebut \")\n"
      ],
      "metadata": {
        "colab": {
          "base_uri": "https://localhost:8080/"
        },
        "id": "H1BVdcp8fxvw",
        "outputId": "083930ed-20bd-4e31-89a7-d16861461d0a"
      },
      "execution_count": 64,
      "outputs": [
        {
          "output_type": "stream",
          "name": "stdout",
          "text": [
            "'u' tidak ditemukan dalam list tersebut \n"
          ]
        }
      ]
    },
    {
      "cell_type": "code",
      "source": [],
      "metadata": {
        "id": "pq1yemM91NDU"
      },
      "execution_count": null,
      "outputs": []
    }
  ]
}