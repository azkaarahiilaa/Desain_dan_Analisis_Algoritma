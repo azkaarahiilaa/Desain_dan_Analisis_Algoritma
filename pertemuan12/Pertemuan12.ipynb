{
  "nbformat": 4,
  "nbformat_minor": 0,
  "metadata": {
    "colab": {
      "provenance": []
    },
    "kernelspec": {
      "name": "python3",
      "display_name": "Python 3"
    },
    "language_info": {
      "name": "python"
    }
  },
  "cells": [
    {
      "cell_type": "code",
      "execution_count": null,
      "metadata": {
        "colab": {
          "base_uri": "https://localhost:8080/"
        },
        "id": "m1LwwZZiOqiY",
        "outputId": "ece25176-e7ec-480c-b56a-66215ec74d7c"
      },
      "outputs": [
        {
          "output_type": "stream",
          "name": "stdout",
          "text": [
            "Requirement already satisfied: networkx in /usr/local/lib/python3.10/dist-packages (3.2.1)\n"
          ]
        }
      ],
      "source": [
        "pip install networkx"
      ]
    },
    {
      "cell_type": "markdown",
      "source": [
        "eigenvector"
      ],
      "metadata": {
        "id": "F4qVrjy9O8tf"
      }
    },
    {
      "cell_type": "code",
      "source": [
        "import networkx as nx\n",
        "import matplotlib.pyplot as plt\n",
        "vertices = range(1,10)\n",
        "edges = [(7,2), (2,3), (7,4), (4,5), (7,3), (7,5), (1,6), (1,7), (2,8), (2,9)]\n",
        "G = nx.Graph()\n",
        "G.add_nodes_from(vertices)\n",
        "G.add_edges_from(edges)\n",
        "nx.draw(G, with_labels=True,node_color='y',node_size=800)"
      ],
      "metadata": {
        "colab": {
          "base_uri": "https://localhost:8080/",
          "height": 516
        },
        "id": "Qeiws0Z-O6iv",
        "outputId": "a3d27509-35d5-4ed1-ca5c-1cbf87347020"
      },
      "execution_count": null,
      "outputs": [
        {
          "output_type": "display_data",
          "data": {
            "text/plain": [
              "<Figure size 640x480 with 1 Axes>"
            ],
            "image/png": "[encoded data removed]"
          },
          "metadata": {}
        }
      ]
    },
    {
      "cell_type": "markdown",
      "source": [
        "pengukuran degree centrality"
      ],
      "metadata": {
        "id": "1AiGFlWYPhFq"
      }
    },
    {
      "cell_type": "code",
      "source": [
        "nx.degree_centrality(G)"
      ],
      "metadata": {
        "colab": {
          "base_uri": "https://localhost:8080/"
        },
        "id": "oMI0ZcE7O6bI",
        "outputId": "ab97ce9f-2663-4fe2-c3ad-5c166bc385db"
      },
      "execution_count": null,
      "outputs": [
        {
          "output_type": "execute_result",
          "data": {
            "text/plain": [
              "{1: 0.25,\n",
              " 2: 0.5,\n",
              " 3: 0.25,\n",
              " 4: 0.25,\n",
              " 5: 0.25,\n",
              " 6: 0.125,\n",
              " 7: 0.625,\n",
              " 8: 0.125,\n",
              " 9: 0.125}"
            ]
          },
          "metadata": {},
          "execution_count": 33
        }
      ]
    },
    {
      "cell_type": "markdown",
      "source": [],
      "metadata": {
        "id": "v0kbfAYZPkw0"
      }
    },
    {
      "cell_type": "markdown",
      "source": [
        "pengukuran betweenneess centrality"
      ],
      "metadata": {
        "id": "zRSRtq71Poxn"
      }
    },
    {
      "cell_type": "code",
      "source": [
        "nx.betweenness_centrality(G)"
      ],
      "metadata": {
        "colab": {
          "base_uri": "https://localhost:8080/"
        },
        "id": "vlkOhy-iO6TP",
        "outputId": "2e4f5199-aab2-4806-c4d7-56201c3b54c9"
      },
      "execution_count": null,
      "outputs": [
        {
          "output_type": "execute_result",
          "data": {
            "text/plain": [
              "{1: 0.25,\n",
              " 2: 0.46428571428571425,\n",
              " 3: 0.0,\n",
              " 4: 0.0,\n",
              " 5: 0.0,\n",
              " 6: 0.0,\n",
              " 7: 0.7142857142857142,\n",
              " 8: 0.0,\n",
              " 9: 0.0}"
            ]
          },
          "metadata": {},
          "execution_count": 34
        }
      ]
    },
    {
      "cell_type": "markdown",
      "source": [
        "pengukuran closeness centrality"
      ],
      "metadata": {
        "id": "mYWMsm93PnUJ"
      }
    },
    {
      "cell_type": "code",
      "source": [
        "nx.closeness_centrality(G)"
      ],
      "metadata": {
        "colab": {
          "base_uri": "https://localhost:8080/"
        },
        "id": "K5EveZfAO6Ju",
        "outputId": "5fb85e12-fbce-4094-8129-d6ebcd14a270"
      },
      "execution_count": null,
      "outputs": [
        {
          "output_type": "execute_result",
          "data": {
            "text/plain": [
              "{1: 0.5,\n",
              " 2: 0.6153846153846154,\n",
              " 3: 0.5333333333333333,\n",
              " 4: 0.47058823529411764,\n",
              " 5: 0.47058823529411764,\n",
              " 6: 0.34782608695652173,\n",
              " 7: 0.7272727272727273,\n",
              " 8: 0.4,\n",
              " 9: 0.4}"
            ]
          },
          "metadata": {},
          "execution_count": 35
        }
      ]
    },
    {
      "cell_type": "markdown",
      "source": [
        "Pengukuran eigenvector centrality"
      ],
      "metadata": {
        "id": "BSNziScXQXTT"
      }
    },
    {
      "cell_type": "code",
      "source": [
        "centrality = nx.eigenvector_centrality(G)\n",
        "sorted((v, '{:0.2f}'.format(c)) for v, c in centrality.items())"
      ],
      "metadata": {
        "colab": {
          "base_uri": "https://localhost:8080/"
        },
        "id": "zkK1o79nQX-s",
        "outputId": "0d296ae3-5937-480f-b6cb-04d98060f5ce"
      },
      "execution_count": null,
      "outputs": [
        {
          "output_type": "execute_result",
          "data": {
            "text/plain": [
              "[(1, '0.24'),\n",
              " (2, '0.45'),\n",
              " (3, '0.36'),\n",
              " (4, '0.32'),\n",
              " (5, '0.32'),\n",
              " (6, '0.08'),\n",
              " (7, '0.59'),\n",
              " (8, '0.16'),\n",
              " (9, '0.16')]"
            ]
          },
          "metadata": {},
          "execution_count": 36
        }
      ]
    },
    {
      "cell_type": "markdown",
      "source": [
        "latihan"
      ],
      "metadata": {
        "id": "VNDcwQzlS_6w"
      }
    },
    {
      "cell_type": "code",
      "source": [
        "# Membuat jaringan\n",
        "G = nx.Graph()\n",
        "G.add_nodes_from(['Bob', 'Emma', 'Liz', 'Allen', 'Lisa', 'John', 'Leah', 'Shane', 'Mike'])\n",
        "G.add_edges_from([('Bob', 'Emma'), ('Bob', 'Liz'), ('Bob', 'Allen'), ('Emma', 'Liz'), ('Emma', 'Allen'), ('Emma', 'Lisa'), ('Liz', 'Allen'), ('Liz', 'Lisa'), ('Allen', 'Lisa'), ('Lisa', 'John'), ('Lisa', 'Leah'), ('John', 'Leah'), ('Leah', 'Shane'), ('Shane', 'Mike')])\n",
        "\n",
        "# Menghitung eigenvector untuk setiap node\n",
        "eigenvector = nx.eigenvector_centrality_numpy(G)\n",
        "print(eigenvector)"
      ],
      "metadata": {
        "colab": {
          "base_uri": "https://localhost:8080/"
        },
        "id": "_iLYYkPjTA_v",
        "outputId": "5140f454-bdb5-42ba-f4c6-60b1521e5c79"
      },
      "execution_count": null,
      "outputs": [
        {
          "output_type": "stream",
          "name": "stdout",
          "text": [
            "{'Bob': 0.3578775171493846, 'Emma': 0.4514252191381477, 'Liz': 0.4514252191381477, 'Allen': 0.45142521913814776, 'Lisa': 0.4475497544774637, 'John': 0.16447647749989405, 'Leah': 0.17486008973301356, 'Shane': 0.0496771487350917, 'Mike': 0.013127559777835387}\n"
          ]
        }
      ]
    },
    {
      "cell_type": "code",
      "source": [
        "nx.degree_centrality(G)"
      ],
      "metadata": {
        "colab": {
          "base_uri": "https://localhost:8080/"
        },
        "id": "ZPlMIFlYUiXV",
        "outputId": "98682e18-f566-4c7b-c1c1-b3dfbe239908"
      },
      "execution_count": null,
      "outputs": [
        {
          "output_type": "execute_result",
          "data": {
            "text/plain": [
              "{'Bob': 0.375,\n",
              " 'Emma': 0.5,\n",
              " 'Liz': 0.5,\n",
              " 'Allen': 0.5,\n",
              " 'Lisa': 0.625,\n",
              " 'John': 0.25,\n",
              " 'Leah': 0.375,\n",
              " 'Shane': 0.25,\n",
              " 'Mike': 0.125}"
            ]
          },
          "metadata": {},
          "execution_count": 38
        }
      ]
    },
    {
      "cell_type": "code",
      "source": [
        "centrality = nx.eigenvector_centrality(G)\n",
        "sorted((v, '{:0.2f}'.format(c)) for v, c in centrality.items())"
      ],
      "metadata": {
        "colab": {
          "base_uri": "https://localhost:8080/"
        },
        "id": "5oB2mT14U3N5",
        "outputId": "c6ea212e-d161-4173-c147-1b98996255ba"
      },
      "execution_count": null,
      "outputs": [
        {
          "output_type": "execute_result",
          "data": {
            "text/plain": [
              "[('Allen', '0.45'),\n",
              " ('Bob', '0.36'),\n",
              " ('Emma', '0.45'),\n",
              " ('John', '0.16'),\n",
              " ('Leah', '0.17'),\n",
              " ('Lisa', '0.45'),\n",
              " ('Liz', '0.45'),\n",
              " ('Mike', '0.01'),\n",
              " ('Shane', '0.05')]"
            ]
          },
          "metadata": {},
          "execution_count": 39
        }
      ]
    },
    {
      "cell_type": "markdown",
      "source": [
        "latihan 2"
      ],
      "metadata": {
        "id": "nUFPJhisWno_"
      }
    },
    {
      "cell_type": "code",
      "source": [
        "# Membuat jaringan\n",
        "G = nx.Graph()\n",
        "G.add_nodes_from([1, 2, 3, 4, 5, 6, 7, 8, 9, 10, 11, 12, 13])\n",
        "G.add_edges_from([(1, 2), (1, 4), (1, 10), (2, 3), (2, 5), (2, 11), (3, 6), (4, 7), (4, 8), (5, 9), (6, 12), (7, 13), (8, 13), (9, 13), (10, 11), (11, 12), (12, 13)])\n",
        "\n",
        "# Menghitung eigenvector untuk setiap node\n",
        "eigenvector = nx.eigenvector_centrality_numpy(G)\n",
        "print(eigenvector)"
      ],
      "metadata": {
        "colab": {
          "base_uri": "https://localhost:8080/"
        },
        "id": "iLY6AqaWWo67",
        "outputId": "ed4c2a9f-40d9-4061-b881-eea0a4c902b6"
      },
      "execution_count": null,
      "outputs": [
        {
          "output_type": "stream",
          "name": "stdout",
          "text": [
            "{1: 0.3277424752961825, 2: 0.3916697309025568, 3: 0.20839070660720882, 4: 0.2800782305293582, 5: 0.21328668559824193, 6: 0.18812252195169005, 7: 0.22575071550389775, 8: 0.22575071550389791, 9: 0.2017442939364102, 10: 0.24010915159266116, 11: 0.34029799637048935, 12: 0.3150106609047323, 13: 0.34801367460618104}\n"
          ]
        }
      ]
    },
    {
      "cell_type": "code",
      "source": [
        "import networkx as nx\n",
        "G_fb = nx.read_edgelist(r\"/content/drive/MyDrive/UAS/facebook_combined.txt.gz\", create_using = nx.Graph(), nodetype=int)"
      ],
      "metadata": {
        "id": "4fxj0xt3XB8T"
      },
      "execution_count": null,
      "outputs": []
    },
    {
      "cell_type": "code",
      "source": [
        "print(nx.info(G_fb))"
      ],
      "metadata": {
        "colab": {
          "base_uri": "https://localhost:8080/",
          "height": 176
        },
        "id": "9Vg7TiCMr8OR",
        "outputId": "4bd24914-c2f9-4801-f3af-888bac7e9290"
      },
      "execution_count": null,
      "outputs": [
        {
          "output_type": "error",
          "ename": "AttributeError",
          "evalue": "ignored",
          "traceback": [
            "\u001b[0;31m---------------------------------------------------------------------------\u001b[0m",
            "\u001b[0;31mAttributeError\u001b[0m                            Traceback (most recent call last)",
            "\u001b[0;32m<ipython-input-51-b39a07f198c4>\u001b[0m in \u001b[0;36m<cell line: 1>\u001b[0;34m()\u001b[0m\n\u001b[0;32m----> 1\u001b[0;31m \u001b[0mprint\u001b[0m\u001b[0;34m(\u001b[0m\u001b[0mnx\u001b[0m\u001b[0;34m.\u001b[0m\u001b[0minfo\u001b[0m\u001b[0;34m(\u001b[0m\u001b[0mG_fb\u001b[0m\u001b[0;34m)\u001b[0m\u001b[0;34m)\u001b[0m\u001b[0;34m\u001b[0m\u001b[0;34m\u001b[0m\u001b[0m\n\u001b[0m",
            "\u001b[0;31mAttributeError\u001b[0m: module 'networkx' has no attribute 'info'"
          ]
        }
      ]
    },
    {
      "cell_type": "markdown",
      "source": [
        "# Bagian Baru"
      ],
      "metadata": {
        "id": "ETMw2darofNB"
      }
    }
  ]
}