{
  "nbformat": 4,
  "nbformat_minor": 0,
  "metadata": {
    "colab": {
      "provenance": []
    },
    "kernelspec": {
      "name": "python3",
      "display_name": "Python 3"
    },
    "language_info": {
      "name": "python"
    }
  },
  "cells": [
    {
      "cell_type": "markdown",
      "source": [
        "membuat graph dengan elemen V"
      ],
      "metadata": {
        "id": "jtQNpZGFWy4c"
      }
    },
    {
      "cell_type": "code",
      "execution_count": null,
      "metadata": {
        "colab": {
          "base_uri": "https://localhost:8080/"
        },
        "id": "48E-cG-JWqKK",
        "outputId": "47fb2272-5084-4ccf-e679-904541dc9f6a"
      },
      "outputs": [
        {
          "output_type": "stream",
          "name": "stdout",
          "text": [
            "{'a': ['b', 'c'], 'b': ['a', 'd'], 'c': ['a', 'd'], 'd': ['e'], 'e': ['d']}\n"
          ]
        }
      ],
      "source": [
        "# a-----b\n",
        "# /     /\n",
        "# /     /\n",
        "# c-----d-----e\n",
        "# create the dictionary wirh graph elements\n",
        "graph = {\"a\" : [\"b\",\"c\"],\n",
        "         \"b\" : [\"a\",\"d\"],\n",
        "         \"c\" : [\"a\",\"d\"],\n",
        "         \"d\" : [\"e\"],\n",
        "         \"e\" : [\"d\"]\n",
        "         }\n",
        "# print the graph\n",
        "print(graph)"
      ]
    },
    {
      "cell_type": "markdown",
      "source": [
        "*latihan* TU\n",
        "![image.png](data:image/png;base64,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)"
      ],
      "metadata": {
        "id": "Wrp-DBp_Y2ih"
      }
    },
    {
      "cell_type": "code",
      "source": [
        "# T-----U-----V\n",
        "# /           /\n",
        "# W-----------x\n",
        "# /           /\n",
        "# Z           s\n",
        "\n",
        "graph = {\"s\" : [\"x\"],\n",
        "         \"T\" : [\"U\", 'W'],\n",
        "         \"U\" : [\"V\", \"x\"],\n",
        "         \"V\" : [\"U\", \"x\"],\n",
        "         \"W\" : [\"x\", \"T\"],\n",
        "         \"x\" : [\"W\", \"s\"],\n",
        "         \"Z\" : [\"x\", \"W\"],\n",
        "         }\n",
        "print(graph)"
      ],
      "metadata": {
        "id": "WJrNtI8IXtrn",
        "colab": {
          "base_uri": "https://localhost:8080/"
        },
        "outputId": "7a05e694-2b77-43c5-a28d-278f542547b5"
      },
      "execution_count": 2,
      "outputs": [
        {
          "output_type": "stream",
          "name": "stdout",
          "text": [
            "{'T': ['U', 'W'], 'U': ['V', 'x'], 'V': ['U', 'x'], 'W': ['x', 'Z'], 'x': ['W', 's'], 'Z': ['x', 'W'], 's': ['x', 'W']}\n"
          ]
        }
      ]
    },
    {
      "cell_type": "markdown",
      "source": [
        "latihan RO\n",
        "![image.png](data:image/png;base64,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)\n"
      ],
      "metadata": {
        "id": "MoxpoehYY54O"
      }
    },
    {
      "cell_type": "code",
      "source": [
        "graph = {\"r\" : [\"o\", \"l\"],\n",
        "         \"o\" : [\"r\", \"m\", \"p\"],\n",
        "         \"m\" : [\"n\", \"o\"],\n",
        "         \"l\" : [\"p\"],\n",
        "         \"m\" : [\"n\"],\n",
        "         \"n\" : [\"m\", \"p\"],\n",
        "         \"p\" : [\"l\", \"n\", \"o\"]\n",
        "         }\n",
        "print(graph)"
      ],
      "metadata": {
        "id": "sZH9c_YRY8r1",
        "colab": {
          "base_uri": "https://localhost:8080/"
        },
        "outputId": "940b143a-01c0-4317-e7a5-73ec6b381b67"
      },
      "execution_count": 14,
      "outputs": [
        {
          "output_type": "stream",
          "name": "stdout",
          "text": [
            "{'r': ['o', 'l'], 'o': ['r', 'm', 'p'], 'm': ['n'], 'l': ['p'], 'n': ['m', 'p'], 'p': ['l', 'n', 'o']}\n"
          ]
        }
      ]
    },
    {
      "cell_type": "markdown",
      "source": [
        "menampilkan simpul TUV"
      ],
      "metadata": {
        "id": "kIVQNKvWY-Q3"
      }
    },
    {
      "cell_type": "code",
      "source": [
        "class Graph:\n",
        "    def __init__(self, gdict=None):\n",
        "        if gdict is None:\n",
        "            gdict = {}\n",
        "        self.gdict = gdict\n",
        "\n",
        "      # Get the keys of the dictionary\n",
        "    def getVertices (self): return list(self.gdict.keys())\n",
        "# Create dictionary with graph elements\n",
        "graph_elements = {\n",
        "         \"s\" : [\"x\"],\n",
        "         \"T\" : [\"U\", 'W'],\n",
        "         \"U\" : [\"V\", \"x\"],\n",
        "         \"V\" : [\"U\", \"x\"],\n",
        "         \"W\" : [\"x\", \"T\"],\n",
        "         \"x\" : [\"W\", \"s\"],\n",
        "         \"Z\" : [\"x\", \"W\"],\n",
        "         }\n",
        "# Create an instance of the Graph class and pass the graph_elements\n",
        "g= Graph (graph_elements)\n",
        "# Print the vertices by calling the getVertices method with parentheses\n",
        "print (g.getVertices())"
      ],
      "metadata": {
        "colab": {
          "base_uri": "https://localhost:8080/"
        },
        "id": "91I_exfwbKOp",
        "outputId": "a5dcb5a4-9378-49e3-8942-bcd10652170e"
      },
      "execution_count": 8,
      "outputs": [
        {
          "output_type": "stream",
          "name": "stdout",
          "text": [
            "['s', 'T', 'U', 'V', 'W', 'x', 'Z']\n"
          ]
        }
      ]
    },
    {
      "cell_type": "markdown",
      "source": [
        "latihan elemen simpul pada graph"
      ],
      "metadata": {
        "id": "PbxSCxqQcMKU"
      }
    },
    {
      "cell_type": "code",
      "source": [
        "class Graph:\n",
        "    def __init__(self, gdict=None):\n",
        "        if gdict is None:\n",
        "            gdict = {}\n",
        "        self.gdict = gdict\n",
        "\n",
        "      # Get the keys of the dictionary\n",
        "    def getVertices (self): return list(self.gdict.keys())\n",
        "# Create dictionary with graph elements\n",
        "graph_elements = {\n",
        "    \"a\": [\"b\", \"c\"],\n",
        "    \"b\": [\"a\", \"d\"],\n",
        "    \"c\": [\"a\", \"d\"],\n",
        "    \"d\": [\"e\"],\n",
        "    \"e\": [\"d\"]\n",
        "}\n",
        "# Create an instance of the Graph class and pass the graph_elements\n",
        "g= Graph (graph_elements)\n",
        "# Print the vertices by calling the getVertices method with parentheses\n",
        "print (g.getVertices())"
      ],
      "metadata": {
        "id": "-8aEfUpVcRmm"
      },
      "execution_count": null,
      "outputs": []
    },
    {
      "cell_type": "markdown",
      "source": [
        "ELEMEN SIMPUL GRAPH ROM"
      ],
      "metadata": {
        "id": "shUsAMFccUWp"
      }
    },
    {
      "cell_type": "code",
      "source": [
        "class Graph:\n",
        "    def __init__(self, gdict=None):\n",
        "        if gdict is None:\n",
        "            gdict = {}\n",
        "        self.gdict = gdict\n",
        "\n",
        "      # Get the keys of the dictionary\n",
        "    def getVertices (self): return list(self.gdict.keys())\n",
        "# Create dictionary with graph elements\n",
        "graph_elements = {\n",
        "         \"r\" : [\"o\", \"l\"],\n",
        "         \"o\" : [\"r\", \"m\", \"p\"],\n",
        "         \"m\" : [\"n\", \"o\"],\n",
        "         \"l\" : [\"p\"],\n",
        "         \"m\" : [\"n\"],\n",
        "         \"n\" : [\"m\", \"p\"],\n",
        "         \"p\" : [\"l\", \"n\", \"o\"]\n",
        "         }\n",
        "\n",
        "\n",
        "# Create an instance of the Graph class and pass the graph_elements\n",
        "g= Graph (graph_elements)\n",
        "# Print the vertices by calling the getVertices method with parentheses\n",
        "print (g.getVertices())"
      ],
      "metadata": {
        "id": "eJxuaRGycT6x",
        "colab": {
          "base_uri": "https://localhost:8080/"
        },
        "outputId": "3b0a8fdc-4dc9-497c-8be7-605fbb967c54"
      },
      "execution_count": 15,
      "outputs": [
        {
          "output_type": "stream",
          "name": "stdout",
          "text": [
            "['r', 'o', 'm', 'l', 'n', 'p']\n"
          ]
        }
      ]
    },
    {
      "cell_type": "markdown",
      "source": [
        "menampilkan sudut pada graph"
      ],
      "metadata": {
        "id": "0TYr23QOcYlz"
      }
    },
    {
      "cell_type": "code",
      "source": [
        "class graph:\n",
        "    def __init__(self,gdict=None):\n",
        "      if gdict is None:\n",
        "          gdict = {}\n",
        "      self.gdict = gdict\n",
        "    def edges (self):\n",
        "        return self.findedges()\n",
        "# Find the distinct list of edges\n",
        "    def findedges (self):\n",
        "        edgename = []\n",
        "        for vrtx in self.gdict:\n",
        "            for nxtvrtx in self.gdict[vrtx]:\n",
        "                if {nxtvrtx, vrtx} not in edgename: edgename.append({vrtx, nxtvrtx})\n",
        "        return edgename\n",
        "# Create the dictionary with graph elements\n",
        "graph_elements = { \"a\" : [\"b\",\"c\"],\n",
        "                \"b\" : [\"a\", \"d\"],\n",
        "                \"C\" : [\"a\", \"d\"],\n",
        "                \"d\" : [\"e\"],\n",
        "                \"e\" : [\"d\"]\n",
        "                }\n",
        "g = graph (graph_elements)\n",
        "print(g.edges())"
      ],
      "metadata": {
        "colab": {
          "base_uri": "https://localhost:8080/"
        },
        "id": "4VwqPkExcZFh",
        "outputId": "b5ed5acd-f105-4c67-be1b-fbae52c8ce3c"
      },
      "execution_count": null,
      "outputs": [
        {
          "output_type": "stream",
          "name": "stdout",
          "text": [
            "[{'a', 'b'}, {'c', 'a'}, {'d', 'b'}, {'C', 'a'}, {'C', 'd'}, {'e', 'd'}]\n"
          ]
        }
      ]
    },
    {
      "cell_type": "markdown",
      "source": [
        "latihan sudut graph TUV"
      ],
      "metadata": {
        "id": "qHP1dQYAeESk"
      }
    },
    {
      "cell_type": "code",
      "source": [
        "class graph:\n",
        "    def __init__(self,gdict=None):\n",
        "      if gdict is None:\n",
        "          gdict = {}\n",
        "      self.gdict = gdict\n",
        "    def edges (self):\n",
        "        return self.findedges()\n",
        "# Find the distinct list of edges\n",
        "    def findedges (self):\n",
        "        edgename = []\n",
        "        for vrtx in self.gdict:\n",
        "            for nxtvrtx in self.gdict[vrtx]:\n",
        "                if {nxtvrtx, vrtx} not in edgename: edgename.append({vrtx, nxtvrtx})\n",
        "        return edgename\n",
        "# Create the dictionary with graph elements\n",
        "graph_elements = {\n",
        "         \"s\" : [\"x\"],\n",
        "         \"T\" : [\"U\", 'W'],\n",
        "         \"U\" : [\"V\", \"x\"],\n",
        "         \"V\" : [\"U\", \"x\"],\n",
        "         \"W\" : [\"x\", \"T\"],\n",
        "         \"x\" : [\"W\", \"s\"],\n",
        "         \"Z\" : [\"x\", \"W\"],\n",
        "         }\n",
        "g = graph (graph_elements)\n",
        "print(g.edges())"
      ],
      "metadata": {
        "id": "aHwFBgvCeHSN",
        "colab": {
          "base_uri": "https://localhost:8080/"
        },
        "outputId": "87c0c64d-6934-4ffc-d82f-0f5796c8d59d"
      },
      "execution_count": 16,
      "outputs": [
        {
          "output_type": "stream",
          "name": "stdout",
          "text": [
            "[{'s', 'x'}, {'T', 'U'}, {'T', 'W'}, {'U', 'V'}, {'U', 'x'}, {'x', 'V'}, {'x', 'W'}, {'x', 'Z'}, {'Z', 'W'}]\n"
          ]
        }
      ]
    },
    {
      "cell_type": "markdown",
      "source": [
        "Latihan sudut graph ROM"
      ],
      "metadata": {
        "id": "YOOkHBqLeI5h"
      }
    },
    {
      "cell_type": "code",
      "source": [
        "class graph:\n",
        "    def __init__(self,gdict=None):\n",
        "      if gdict is None:\n",
        "          gdict = {}\n",
        "      self.gdict = gdict\n",
        "    def edges (self):\n",
        "        return self.findedges()\n",
        "# Find the distinct list of edges\n",
        "    def findedges (self):\n",
        "        edgename = []\n",
        "        for vrtx in self.gdict:\n",
        "            for nxtvrtx in self.gdict[vrtx]:\n",
        "                if {nxtvrtx, vrtx} not in edgename: edgename.append({vrtx, nxtvrtx})\n",
        "        return edgename\n",
        "# Create the dictionary with graph elements\n",
        "graph_elements =  {\n",
        "         \"r\" : [\"o\", \"l\"],\n",
        "         \"o\" : [\"r\", \"m\", \"p\"],\n",
        "         \"m\" : [\"n\", \"o\"],\n",
        "         \"l\" : [\"p\"],\n",
        "         \"m\" : [\"n\"],\n",
        "         \"n\" : [\"m\", \"p\"],\n",
        "         \"p\" : [\"l\", \"n\", \"o\"]\n",
        "         }\n",
        "g = graph (graph_elements)\n",
        "print(g.edges())"
      ],
      "metadata": {
        "id": "-n7y-pQBeMlU",
        "colab": {
          "base_uri": "https://localhost:8080/"
        },
        "outputId": "343a52c6-8d63-4994-e34f-892c9734cd78"
      },
      "execution_count": 17,
      "outputs": [
        {
          "output_type": "stream",
          "name": "stdout",
          "text": [
            "[{'r', 'o'}, {'r', 'l'}, {'m', 'o'}, {'o', 'p'}, {'m', 'n'}, {'l', 'p'}, {'p', 'n'}]\n"
          ]
        }
      ]
    },
    {
      "cell_type": "markdown",
      "source": [
        "menambah vartex / simpul"
      ],
      "metadata": {
        "id": "q8DEL-5ReNFD"
      }
    },
    {
      "cell_type": "code",
      "source": [
        "class graph:\n",
        "    def __init__(self,gdict=None):\n",
        "        if gdict is None:\n",
        "            gdict = {}\n",
        "        self.gdict = gdict\n",
        "\n",
        "    def getVertices (self):\n",
        "        return list(self.gdict.keys())\n",
        "# Add the vertex as a key\n",
        "    def addVertex(self, vrtx):\n",
        "       if vrtx not in self.gdict:\n",
        "            self.gdict[vrtx] = []\n",
        "# Create the dictionary with graph elements graph_elements = { \"a\" : [\"b\",\"c\"], \"b\" : [\"a\", \"d\"], 'c\" : [\"a\", \"d\"], \"d\" : [\"e\"], \"e\" : [\"d\"] }\n",
        "graph_elements = { \"a\" : [\"b\",\"c\"],\n",
        "                \"b\" : [\"a\", \"d\"],\n",
        "                \"C\" : [\"a\", \"d\"],\n",
        "                \"d\" : [\"e\"],\n",
        "                \"e\" : [\"d\"]\n",
        "                }\n",
        "g = graph(graph_elements)\n",
        "g.addVertex(\"f\")\n",
        "print(g.getVertices())"
      ],
      "metadata": {
        "colab": {
          "base_uri": "https://localhost:8080/"
        },
        "id": "oLlkGogKeRi_",
        "outputId": "49991468-6336-4b72-e183-f6b50dd0f38b"
      },
      "execution_count": 21,
      "outputs": [
        {
          "output_type": "stream",
          "name": "stdout",
          "text": [
            "['a', 'b', 'C', 'd', 'e', 'f']\n"
          ]
        }
      ]
    },
    {
      "cell_type": "markdown",
      "source": [
        "tambah simpul pada graph TUV"
      ],
      "metadata": {
        "id": "KzGf8Xhie5Sz"
      }
    },
    {
      "cell_type": "code",
      "source": [
        "class graph:\n",
        "    def __init__(self,gdict=None):\n",
        "        if gdict is None:\n",
        "            gdict = {}\n",
        "        self.gdict = gdict\n",
        "\n",
        "    def getVertices (self):\n",
        "        return list(self.gdict.keys())\n",
        "# Add the vertex as a key\n",
        "    def addVertex(self, vrtx):\n",
        "       if vrtx not in self.gdict:\n",
        "            self.gdict[vrtx] = []\n",
        "# Create the dictionary with graph elements graph_elements = { \"a\" : [\"b\",\"c\"], \"b\" : [\"a\", \"d\"], 'c\" : [\"a\", \"d\"], \"d\" : [\"e\"], \"e\" : [\"d\"] }\n",
        "graph_elements ={\n",
        "         \"s\" : [\"x\"],\n",
        "         \"T\" : [\"U\", 'W'],\n",
        "         \"U\" : [\"V\", \"x\"],\n",
        "         \"V\" : [\"U\", \"x\"],\n",
        "         \"W\" : [\"x\", \"T\"],\n",
        "         \"x\" : [\"W\", \"s\"],\n",
        "         \"Z\" : [\"x\", \"W\"],\n",
        "         }\n",
        "g = graph(graph_elements)\n",
        "g.addVertex(\"f\")\n",
        "print(g.getVertices())"
      ],
      "metadata": {
        "id": "DanDt1O6e-7i",
        "colab": {
          "base_uri": "https://localhost:8080/"
        },
        "outputId": "fbe3e904-2e00-498a-f370-a75cf474745e"
      },
      "execution_count": 22,
      "outputs": [
        {
          "output_type": "stream",
          "name": "stdout",
          "text": [
            "['s', 'T', 'U', 'V', 'W', 'x', 'Z', 'f']\n"
          ]
        }
      ]
    },
    {
      "cell_type": "markdown",
      "source": [
        "TAMBAH SIMPUL PADA GRAPH ROM"
      ],
      "metadata": {
        "id": "NJtopPnmfA0E"
      }
    },
    {
      "cell_type": "code",
      "source": [
        "class graph:\n",
        "    def __init__(self,gdict=None):\n",
        "        if gdict is None:\n",
        "            gdict = {}\n",
        "        self.gdict = gdict\n",
        "\n",
        "    def getVertices (self):\n",
        "        return list(self.gdict.keys())\n",
        "# Add the vertex as a key\n",
        "    def addVertex(self, vrtx):\n",
        "       if vrtx not in self.gdict:\n",
        "            self.gdict[vrtx] = []\n",
        "# Create the dictionary with graph elements graph_elements = { \"a\" : [\"b\",\"c\"], \"b\" : [\"a\", \"d\"], 'c\" : [\"a\", \"d\"], \"d\" : [\"e\"], \"e\" : [\"d\"] }\n",
        "graph_elements =  {\n",
        "         \"r\" : [\"o\", \"l\"],\n",
        "         \"o\" : [\"r\", \"m\", \"p\"],\n",
        "         \"m\" : [\"n\", \"o\"],\n",
        "         \"l\" : [\"p\"],\n",
        "         \"m\" : [\"n\"],\n",
        "         \"n\" : [\"m\", \"p\"],\n",
        "         \"p\" : [\"l\", \"n\", \"o\"]\n",
        "         }\n",
        "g = graph(graph_elements)\n",
        "g.addVertex(\"f\")\n",
        "print(g.getVertices())"
      ],
      "metadata": {
        "id": "h4-YGlulfDJP",
        "colab": {
          "base_uri": "https://localhost:8080/"
        },
        "outputId": "6a903034-7b21-4591-9a4c-5cbd893d2a8d"
      },
      "execution_count": 23,
      "outputs": [
        {
          "output_type": "stream",
          "name": "stdout",
          "text": [
            "['r', 'o', 'm', 'l', 'n', 'p', 'f']\n"
          ]
        }
      ]
    },
    {
      "cell_type": "markdown",
      "source": [
        "MENAMBAH EDGE / SUDUT"
      ],
      "metadata": {
        "id": "isx65HJRfFAg"
      }
    },
    {
      "cell_type": "code",
      "source": [
        "class graph:\n",
        "    def __init__(self,gdict=None):\n",
        "        if gdict is None:\n",
        "            gdict = {}\n",
        "        self.gdict = gdict\n",
        "    def edges (self):\n",
        "        return self.findedges()\n",
        "# Add the new edge\n",
        "    def AddEdge(self, edge):\n",
        "        edge = set(edge)\n",
        "        (vrtx1, vrtx2) = tuple(edge)\n",
        "        if vrtx1 in self.gdict:\n",
        "            self.gdict[vrtx1].append(vrtx2)\n",
        "        else:\n",
        "            self.gdict[vrtx1] = [vrtx2]\n",
        "# List the edge names\n",
        "    def findedges (self):\n",
        "        edgename = []\n",
        "        for vrtx in self.gdict:\n",
        "            for nxtvrtx in self.gdict[vrtx]:\n",
        "                if {nxtvrtx, vrtx} not in edgename:\n",
        "                    edgename.append({vrtx, nxtvrtx})\n",
        "        return edgename\n",
        "\n",
        "# Create the dictionary with graph elements\n",
        "graph_elements = { \"a\" : [\"b\",\"c\"],\n",
        "                \"b\" : [\"a\", \"d\"],\n",
        "                \"c\" : [\"a\", \"d\"],\n",
        "                \"d\" : [\"e\"],\n",
        "                \"e\" : [\"d\"]\n",
        "                }\n",
        "g = graph(graph_elements)\n",
        "g.AddEdge({'a', 'e'})\n",
        "g.AddEdge ({'a', 'c'})\n",
        "print (g.edges())"
      ],
      "metadata": {
        "colab": {
          "base_uri": "https://localhost:8080/"
        },
        "id": "LnVmLAoPfH1K",
        "outputId": "4e250734-d475-45bc-8e8f-128dc873cac4"
      },
      "execution_count": null,
      "outputs": [
        {
          "output_type": "stream",
          "name": "stdout",
          "text": [
            "[{'a', 'b'}, {'c', 'a'}, {'a', 'e'}, {'d', 'b'}, {'c', 'd'}, {'e', 'd'}]\n"
          ]
        }
      ]
    },
    {
      "cell_type": "markdown",
      "source": [
        "tambah simpul pada edge TUV"
      ],
      "metadata": {
        "id": "4s-wd6kOoD6A"
      }
    },
    {
      "cell_type": "code",
      "source": [
        "class graph:\n",
        "    def __init__(self,gdict=None):\n",
        "        if gdict is None:\n",
        "            gdict = {}\n",
        "        self.gdict = gdict\n",
        "    def edges (self):\n",
        "        return self.findedges()\n",
        "# Add the new edge\n",
        "    def AddEdge(self, edge):\n",
        "        edge = set(edge)\n",
        "        (vrtx1, vrtx2) = tuple(edge)\n",
        "        if vrtx1 in self.gdict:\n",
        "            self.gdict[vrtx1].append(vrtx2)\n",
        "        else:\n",
        "            self.gdict[vrtx1] = [vrtx2]\n",
        "# List the edge names\n",
        "    def findedges (self):\n",
        "        edgename = []\n",
        "        for vrtx in self.gdict:\n",
        "            for nxtvrtx in self.gdict[vrtx]:\n",
        "                if {nxtvrtx, vrtx} not in edgename:\n",
        "                    edgename.append({vrtx, nxtvrtx})\n",
        "        return edgename\n",
        "\n",
        "# Create the dictionary with graph elements\n",
        "graph_elements = {\n",
        "         \"s\" : [\"x\"],\n",
        "         \"T\" : [\"U\", 'W'],\n",
        "         \"U\" : [\"V\", \"x\"],\n",
        "         \"V\" : [\"U\", \"x\"],\n",
        "         \"W\" : [\"x\", \"T\"],\n",
        "         \"x\" : [\"W\", \"s\"],\n",
        "         \"Z\" : [\"x\", \"W\"],\n",
        "         }\n",
        "g = graph(graph_elements)\n",
        "g.AddEdge({'a', 'e'})\n",
        "g.AddEdge ({'a', 'c'})\n",
        "print (g.edges())"
      ],
      "metadata": {
        "colab": {
          "base_uri": "https://localhost:8080/"
        },
        "id": "blKMCmUqoI7U",
        "outputId": "f747143a-4817-496c-b1c0-f31e104df6a7"
      },
      "execution_count": 24,
      "outputs": [
        {
          "output_type": "stream",
          "name": "stdout",
          "text": [
            "[{'s', 'x'}, {'T', 'U'}, {'T', 'W'}, {'U', 'V'}, {'U', 'x'}, {'x', 'V'}, {'x', 'W'}, {'x', 'Z'}, {'Z', 'W'}, {'a', 'e'}, {'a', 'c'}]\n"
          ]
        }
      ]
    },
    {
      "cell_type": "markdown",
      "source": [
        "TAMBAH SIMPUL PADA EDGE ROM"
      ],
      "metadata": {
        "id": "m5H4cIPwoK4g"
      }
    },
    {
      "cell_type": "code",
      "source": [
        "class graph:\n",
        "    def __init__(self,gdict=None):\n",
        "        if gdict is None:\n",
        "            gdict = {}\n",
        "        self.gdict = gdict\n",
        "    def edges (self):\n",
        "        return self.findedges()\n",
        "# Add the new edge\n",
        "    def AddEdge(self, edge):\n",
        "        edge = set(edge)\n",
        "        (vrtx1, vrtx2) = tuple(edge)\n",
        "        if vrtx1 in self.gdict:\n",
        "            self.gdict[vrtx1].append(vrtx2)\n",
        "        else:\n",
        "            self.gdict[vrtx1] = [vrtx2]\n",
        "# List the edge names\n",
        "    def findedges (self):\n",
        "        edgename = []\n",
        "        for vrtx in self.gdict:\n",
        "            for nxtvrtx in self.gdict[vrtx]:\n",
        "                if {nxtvrtx, vrtx} not in edgename:\n",
        "                    edgename.append({vrtx, nxtvrtx})\n",
        "        return edgename\n",
        "\n",
        "# Create the dictionary with graph elements\n",
        "graph_elements = {\n",
        "         \"r\" : [\"o\", \"l\"],\n",
        "         \"o\" : [\"r\", \"m\", \"p\"],\n",
        "         \"m\" : [\"n\", \"o\"],\n",
        "         \"l\" : [\"p\"],\n",
        "         \"m\" : [\"n\"],\n",
        "         \"n\" : [\"m\", \"p\"],\n",
        "         \"p\" : [\"l\", \"n\", \"o\"]\n",
        "         }\n",
        "g = graph(graph_elements)\n",
        "g.AddEdge({'a', 'e'})\n",
        "g.AddEdge ({'a', 'c'})\n",
        "print (g.edges())"
      ],
      "metadata": {
        "colab": {
          "base_uri": "https://localhost:8080/"
        },
        "id": "VYyjEXz9o3-H",
        "outputId": "ca593b52-8b9e-44cf-eae2-891010f68e14"
      },
      "execution_count": 25,
      "outputs": [
        {
          "output_type": "stream",
          "name": "stdout",
          "text": [
            "[{'r', 'o'}, {'r', 'l'}, {'m', 'o'}, {'o', 'p'}, {'m', 'n'}, {'l', 'p'}, {'p', 'n'}, {'a', 'e'}, {'a', 'c'}]\n"
          ]
        }
      ]
    }
  ]
}