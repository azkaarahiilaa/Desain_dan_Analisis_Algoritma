{
  "nbformat": 4,
  "nbformat_minor": 0,
  "metadata": {
    "colab": {
      "provenance": [],
      "authorship_tag": "ABX9TyOTxw6rjehO8lpxkFFDyYZr",
      "include_colab_link": true
    },
    "kernelspec": {
      "name": "python3",
      "display_name": "Python 3"
    },
    "language_info": {
      "name": "python"
    }
  },
  "cells": [
    {
      "cell_type": "markdown",
      "metadata": {
        "id": "view-in-github",
        "colab_type": "text"
      },
      "source": [
        "<a href=\"https://colab.research.google.com/github/azkaarahiilaa/Desain_dan_Analisis_Algoritma/blob/main/DAA5.ipynb\" target=\"_parent\"><img src=\"https://colab.research.google.com/assets/colab-badge.svg\" alt=\"Open In Colab\"/></a>"
      ]
    },
    {
      "cell_type": "markdown",
      "source": [
        "Inversi dalam suatu array\n",
        "mengitung berapa banyak perubahan yang harus dilakukan untuk mengubah array menjadi bentuk urut"
      ],
      "metadata": {
        "id": "_wPi2x7j6pFs"
      }
    },
    {
      "cell_type": "code",
      "execution_count": 22,
      "metadata": {
        "colab": {
          "base_uri": "https://localhost:8080/"
        },
        "id": "DQKQiQfX6l-B",
        "outputId": "e03073a3-f027-4d5c-9921-0fee5ec767e0"
      },
      "outputs": [
        {
          "output_type": "stream",
          "name": "stdout",
          "text": [
            "6\n"
          ]
        }
      ],
      "source": [
        "arr=[21, 70, 36, 14, 25]\n",
        "def countInversion(arr):\n",
        "    result=0\n",
        "    for i in range(len(arr)):\n",
        "        for j in range(i+1,len(arr)):\n",
        "            if arr[i]>arr[j]:\n",
        "                result+=1\n",
        "    return result\n",
        "\n",
        "result=countInversion(arr)\n",
        "print(result)"
      ]
    },
    {
      "cell_type": "code",
      "source": [
        "def countInversion(arr):\n",
        "    icount = 0\n",
        "    if len(arr)<= 1:\n",
        "        return icount\n",
        "\n",
        "    mid = len(arr)//2\n",
        "    left=arr[:mid]\n",
        "    right=arr[mid:]\n",
        "    icount+=countInversion(left)\n",
        "    icount+=countInversion(right)\n",
        "    i=j=k=0\n",
        "    #print(left)\n",
        "    #print(right)\n",
        "    while i<len(left) and j<len(right):\n",
        "        if left[i]<right[j]:\n",
        "            arr[k] = left[i]\n",
        "            i+=1\n",
        "        else:\n",
        "            #print(left[i],right[j])\n",
        "            arr[k] = right[j]\n",
        "            j+=1\n",
        "            icount += (mid - i)\n",
        "        k += 1\n",
        "    while i < len(left):\n",
        "        arr[k]=left[i]\n",
        "        i+=1\n",
        "        k+=1\n",
        "    while j<len(right):\n",
        "        arr[k]=right[j]\n",
        "        j+=1\n",
        "        k+=1\n",
        "    return icount\n",
        "\n",
        "arr = [1, 20, 6, 4, 5]\n",
        "result = countInversion(arr)\n",
        "print(result)"
      ],
      "metadata": {
        "colab": {
          "base_uri": "https://localhost:8080/"
        },
        "id": "eCWbEbIX5PBu",
        "outputId": "fbd50431-b58d-45c6-83fb-7452e057f9c6"
      },
      "execution_count": 114,
      "outputs": [
        {
          "output_type": "stream",
          "name": "stdout",
          "text": [
            "5\n"
          ]
        }
      ]
    },
    {
      "cell_type": "code",
      "source": [
        "# total semua element list\n",
        "arr = [3,7,5,2,1,8,9]\n",
        "total=0\n",
        "for i in range(len(arr)):\n",
        "  total = total+arr[i];\n",
        "\n",
        "print(total)"
      ],
      "metadata": {
        "colab": {
          "base_uri": "https://localhost:8080/"
        },
        "id": "hYID9KQt-Fn0",
        "outputId": "e9f701b5-0205-418f-c365-96608d0eeeae"
      },
      "execution_count": 26,
      "outputs": [
        {
          "output_type": "stream",
          "name": "stdout",
          "text": [
            "35\n"
          ]
        }
      ]
    },
    {
      "cell_type": "code",
      "source": [
        "def divideAndConquer_Max(arr, ind, len):\n",
        "  maximum = -1;\n",
        "\n",
        "  if (ind >= len - 2):\n",
        "    if (arr[ind] > arr[ind + 1]):\n",
        "      return arr[ind];\n",
        "    else:\n",
        "      return arr[ind + 1];\n",
        "\n",
        "  maximum = divideAndConquer_Max(arr, ind + 1, len);\n",
        "\n",
        "  if (arr[ind] > maximum):\n",
        "    return arr[ind];\n",
        "  else:\n",
        "    return maximum;\n",
        "\n",
        "\n",
        "def divideAndConquer_Min(arr, ind, len):\n",
        "  minimum = 0;\n",
        "  if (ind >= len - 2):\n",
        "    if (arr[ind] < arr[ind + 1]):\n",
        "      return arr[ind];\n",
        "    else:\n",
        "      return arr[ind + 1];\n",
        "\n",
        "  minimum = divideAndConquer_Min(arr, ind + 1, len);\n",
        "\n",
        "  if (arr[ind] < minimum):\n",
        "    return arr[ind];\n",
        "  else:\n",
        "    return minimum;\n",
        "\n",
        "if __name__== '__main__':\n",
        "\n",
        "  minimum, maximum = 0, -1;\n",
        "  # array initialization\n",
        "  arr=[4,12,23,9,21,1,35,2,24];\n",
        "\n",
        "  maximum = divideAndConquer_Max(arr, 0, 9);\n",
        "  minimum = divideAndConquer_Min(arr, 0, 9);\n",
        "\n",
        "  print(\"the minimum number in the array is: \", minimum);\n",
        "  print(\"the maximum number in the array is: \", maximum);\n"
      ],
      "metadata": {
        "colab": {
          "base_uri": "https://localhost:8080/"
        },
        "id": "8ozZ1gMICxXm",
        "outputId": "a357dabe-aa95-49d3-f9ed-e82668a84f07"
      },
      "execution_count": 54,
      "outputs": [
        {
          "output_type": "stream",
          "name": "stdout",
          "text": [
            "the minimum number in the array is:  1\n",
            "the maximum number in the array is:  35\n"
          ]
        }
      ]
    },
    {
      "cell_type": "markdown",
      "source": [
        "Merge Sort\n"
      ],
      "metadata": {
        "id": "f-3b1C-NRFeY"
      }
    },
    {
      "cell_type": "code",
      "source": [
        "# MergeSort In Python\n",
        "def mergeSort(array):\n",
        "    if len(array) > 1:\n",
        "\n",
        "        # r is the point where the array is divided into two subarrays\n",
        "        r = len(array)//2\n",
        "        L = array[:r]\n",
        "        M = array[r:]\n",
        "\n",
        "        # sort the two halves\n",
        "        mergeSort(L)\n",
        "        mergeSort(M)\n",
        "\n",
        "        i = j = k = 0\n",
        "\n",
        "        #until we reach either end of either L or M, pick larger among\n",
        "        #statements L and M place them in the correct position at[p..r]\n",
        "        while i < len(L) and j < len(M):\n",
        "            if L [i] < M[j]:\n",
        "                array[k] = L[i]\n",
        "                i +=1\n",
        "            else:\n",
        "                array[k] = M[j]\n",
        "                j += 1\n",
        "            k += 1\n",
        "        # when we run out of elements in either L or M,\n",
        "        # pick up the remaining and put in A[p..r]\n",
        "        while i < len(L):\n",
        "            array[k] = L[i]\n",
        "            i += 1\n",
        "            k += 1\n",
        "\n",
        "        while j < len(M):\n",
        "            array[k] = M[j]\n",
        "            j += 1\n",
        "            k += 1\n",
        "\n",
        "# print the array\n",
        "def printList(array):\n",
        "    for i in range(len(array)):\n",
        "        print(array[i], end=\" \")\n",
        "    print()\n",
        "# driver program\n",
        "if __name__ == '__main__':\n",
        "    array = [4,12,23,9,21,1,35,2,24]\n",
        "\n",
        "    mergeSort(array)\n",
        "    print(\"sorted array is: \")\n",
        "    printList(array)\n"
      ],
      "metadata": {
        "colab": {
          "base_uri": "https://localhost:8080/"
        },
        "id": "bJEZg-cOKlYl",
        "outputId": "ceea4d83-88fd-4109-84e3-3f728ecb0c2c"
      },
      "execution_count": 63,
      "outputs": [
        {
          "output_type": "stream",
          "name": "stdout",
          "text": [
            "sorted array is: \n",
            "1 2 4 9 12 21 23 24 35 \n"
          ]
        }
      ]
    },
    {
      "cell_type": "code",
      "source": [
        "# function to find the partition position\n",
        "data = [4,12,23,9,21,1,35,2,24]\n",
        "def partition(array, low, high):\n",
        "\n",
        "    # choose the rightmost elements as pivot\n",
        "    pivot = array[high]\n",
        "\n",
        "    # pointer for greater element\n",
        "    i = low -1\n",
        "\n",
        "    # traverse trough all elements\n",
        "    # compare each element with pivot\n",
        "    for j in range(low, high):\n",
        "        if array[j] <= pivot:\n",
        "\n",
        "            # if element smaller that pivot is found\n",
        "            # swap it with the greater element pointed by 1\n",
        "            i = i + 1\n",
        "\n",
        "            # swapping element at i with the element j\n",
        "            (array[i], array[j]) = (array[j], array[i])\n",
        "\n",
        "    # swap the pivot element with the greater element specified by i\n",
        "    (array[i + 1], array[high]) = (array[high], array[i + 1])\n",
        "\n",
        "    # return the position from where position is done\n",
        "    return i + 1\n",
        "\n",
        "# function to perform quicksort\n",
        "def quickSort(array, low, high):\n",
        "    if low < high:\n",
        "\n",
        "        # find pivot element such that\n",
        "        # element smaller than pivot are on the left\n",
        "        # element greater thhat pivot are on the right\n",
        "        pi = partition(array, low, high)\n",
        "\n",
        "        # recursive call on the left of pivot\n",
        "        quickSort(array, low, pi -1 )\n",
        "\n",
        "        # recursive call on the right of pivot\n",
        "        quickSort(array, pi + 1, high )\n",
        "\n",
        "print(\"unsorted array\")\n",
        "print(data)\n",
        "\n",
        "size = len(data)\n",
        "\n",
        "quickSort(data, 0, size -1)\n",
        "\n",
        "print('sorted array in ascending order')\n",
        "print(data)"
      ],
      "metadata": {
        "colab": {
          "base_uri": "https://localhost:8080/"
        },
        "id": "mc-WMb7sPrdq",
        "outputId": "9d7ae8f8-7931-42c6-e822-04b5c6840f13"
      },
      "execution_count": 84,
      "outputs": [
        {
          "output_type": "stream",
          "name": "stdout",
          "text": [
            "unsorted array\n",
            "[4, 12, 23, 9, 21, 1, 35, 2, 24]\n",
            "sorted array in ascending order\n",
            "[1, 2, 4, 9, 12, 21, 23, 24, 35]\n"
          ]
        }
      ]
    },
    {
      "cell_type": "code",
      "source": [
        "# tanpa divide dan conquer\n",
        "\n",
        "arr =[-2, -5, 6, -2, -3, 1, 5, -6]\n",
        "def maxSubSum(arr):\n",
        "    max_so_far=0\n",
        "    max_ending_here=0\n",
        "    for i in range(len(arr)):\n",
        "        max_ending_here+=arr[i]\n",
        "        if max_ending_here>max_so_far:\n",
        "            max_so_far=max_ending_here\n",
        "        if max_ending_here<0:\n",
        "            max_ending_here=0\n",
        "    return max_so_far\n",
        "result=maxSubSum(arr)\n",
        "print(result)\n"
      ],
      "metadata": {
        "colab": {
          "base_uri": "https://localhost:8080/"
        },
        "id": "F9aGqLOyVZMQ",
        "outputId": "24165c4d-3a0a-4b6d-e4a2-41b28cc4deac"
      },
      "execution_count": 66,
      "outputs": [
        {
          "output_type": "stream",
          "name": "stdout",
          "text": [
            "7\n"
          ]
        }
      ]
    },
    {
      "cell_type": "code",
      "source": [
        "# menggunakan divide and conquer\n",
        "arr=[-2,-5,6,-2,-3,1,5,-6]\n",
        "def maxCrossingSum(arr,low,mid,high):\n",
        "    result=0; leftSum=float('-infinity')\n",
        "    for i in range(mid, low-1, -1):\n",
        "        result+=arr[i]\n",
        "        if result>leftSum:\n",
        "            leftSum=result\n",
        "    result=0;rightSum=float('-infinity')\n",
        "    for i in range(mid+1, high+1):\n",
        "        result+=arr[i]\n",
        "        if result>rightSum:\n",
        "            rightSum=result\n",
        "    return leftSum+rightSum\n",
        "\n",
        "def maxSum(arr, low, high):\n",
        "    if low == high :\n",
        "        return arr[low]\n",
        "    mid=(low+high)//2\n",
        "    return max(maxSum(arr,low,mid), maxSum(arr,mid+1,high), maxCrossingSum(arr,low,mid,high))\n",
        "result=maxSum(arr,0,len(arr)-1)\n",
        "print(result)\n",
        "\n",
        "\n",
        ""
      ],
      "metadata": {
        "colab": {
          "base_uri": "https://localhost:8080/"
        },
        "id": "I35wIeRxW0el",
        "outputId": "947b4741-1041-46ce-9041-ed3087f1c3a9"
      },
      "execution_count": 67,
      "outputs": [
        {
          "output_type": "stream",
          "name": "stdout",
          "text": [
            "7\n"
          ]
        }
      ]
    },
    {
      "cell_type": "code",
      "source": [
        "def longestCommonPrefix( a):\n",
        "\n",
        "    size = len(a)\n",
        "\n",
        "    # if size is 0, return empty string\n",
        "    if (size == 0):\n",
        "        return \"\"\n",
        "    if (size == 1):\n",
        "        return a [0]\n",
        "\n",
        "    # sort the array of string\n",
        "    a.sort()\n",
        "\n",
        "    # find the minimum length from\n",
        "    # first and last string\n",
        "    end = min(len(a[0]), len(a[size -1]))\n",
        "\n",
        "    # find the common prefix between\n",
        "    # the first and last string\n",
        "    i = 0\n",
        "    while (i < end and\n",
        "           a[0][i]==a[size -1][i]):\n",
        "        i += 1\n",
        "\n",
        "    pre = a[0][0: i]\n",
        "    return pre\n",
        "arr=[\"geeksforgeeks\", \"geeks\", \"geek\", \"geezer\"]\n",
        "result=longestCommonPrefix(arr)\n",
        "print(result)\n",
        "\n",
        "arr=[\"apple\", \"ape\", \"april\"]\n",
        "result=longestCommonPrefix(arr)\n",
        "print(result)"
      ],
      "metadata": {
        "colab": {
          "base_uri": "https://localhost:8080/"
        },
        "id": "4HRbT9ZCZlqL",
        "outputId": "d18e1226-2169-455b-af31-ea9245575a1d"
      },
      "execution_count": 69,
      "outputs": [
        {
          "output_type": "stream",
          "name": "stdout",
          "text": [
            "gee\n",
            "ap\n"
          ]
        }
      ]
    },
    {
      "cell_type": "code",
      "source": [
        "# median dari dua array dengan divide dan conquer\n",
        "arr1=[1,12,15,26,38]\n",
        "arr2=[2,13,17,30,45]\n",
        "def medianOfArray(arr1, arr2, n):\n",
        "    m1=-1 #first number\n",
        "    m2=-2 #second number\n",
        "    count=0\n",
        "    i=j=0\n",
        "    while count<n+1:\n",
        "        count+=1\n",
        "        if i==n: # i==5 index error if arr1[i]<arr2[j] is checked\n",
        "            m1=m2\n",
        "            m2=arr2[0]\n",
        "            break\n",
        "        if j==n:\n",
        "            m1=m2\n",
        "            m2=arr1[0]\n",
        "            break\n",
        "        if arr1[i]<arr2[j]:\n",
        "            m1=m2\n",
        "            m2=arr1[i]\n",
        "            i+=1\n",
        "        else:\n",
        "            m1=m2\n",
        "            m2=arr2[j]\n",
        "            j+=1\n",
        "\n",
        "    return (m1+m2)//2\n",
        "print(medianOfArray(arr1, arr2, len(arr1)))\n",
        "\n"
      ],
      "metadata": {
        "colab": {
          "base_uri": "https://localhost:8080/"
        },
        "id": "ACBLvhvPcTO8",
        "outputId": "4f07b77d-4fad-4a13-9c2f-df4dc1940791"
      },
      "execution_count": 86,
      "outputs": [
        {
          "output_type": "stream",
          "name": "stdout",
          "text": [
            "16\n"
          ]
        }
      ]
    },
    {
      "cell_type": "code",
      "source": [
        "from typing import Annotated\n",
        "arr1 = [-5, 3, 6, 12, 15]\n",
        "arr2 = [-12, -10, -6, -3, 4, 10]\n",
        "def Solution(arr):\n",
        "    n = len(arr)\n",
        "    # if length of array is even\n",
        "    if n % 2 == 0:\n",
        "        z = n // 2\n",
        "        e = arr[z]\n",
        "        q = arr [z - 1]\n",
        "        ans = (e + q) / 2\n",
        "        return ans\n",
        "    # if length of array is odd\n",
        "    else:\n",
        "        z = n // 2\n",
        "        ans = arr[z]\n",
        "        return ans\n",
        "\n",
        "# concatenating the two array\n",
        "arr3 = arr1 + arr2\n",
        "# sorting the resultant array\n",
        "arr3.sort()\n",
        "print(\"median = \", Solution(arr3))"
      ],
      "metadata": {
        "colab": {
          "base_uri": "https://localhost:8080/"
        },
        "id": "Ts2PUw8EgCKH",
        "outputId": "832d49d4-2d9f-4171-9c6c-037dab24cdc8"
      },
      "execution_count": 89,
      "outputs": [
        {
          "output_type": "stream",
          "name": "stdout",
          "text": [
            "median =  3\n"
          ]
        }
      ]
    },
    {
      "cell_type": "code",
      "source": [
        "# floor in sorted array\n",
        "arr=[1,2,8,10,12,14,19]\n",
        "x = 5\n",
        "def floorSorted(arr, low, high, x):\n",
        "    # print(low, high)\n",
        "    if low>high:\n",
        "        return -1\n",
        "    if arr[low]>x:\n",
        "        # print(\"inside\")\n",
        "        return -1\n",
        "    if arr[high]<=x:\n",
        "        return arr[high]\n",
        "    mid=(low+high)//2\n",
        "\n",
        "    if arr[mid]==x:\n",
        "        return arr[mid]\n",
        "    if mid>0 and x>=arr[mid+1] and x>=arr[mid]:\n",
        "        return arr[mid-1]\n",
        "    if mid<high and x<arr [mid+1] and x>=arr[mid]:\n",
        "        return arr[mid]\n",
        "    if x>arr[mid]:\n",
        "        return floorSorted(arr, mid+1, high,x)\n",
        "    else:\n",
        "        return floorSorted(arr, low, mid-1, x)\n",
        "print(floorSorted(arr,0,len(arr)-1,x))"
      ],
      "metadata": {
        "colab": {
          "base_uri": "https://localhost:8080/"
        },
        "id": "rM_i8Bu5ilcU",
        "outputId": "57d7b627-b3e7-4b9d-a605-6e49a8fe2dae"
      },
      "execution_count": 90,
      "outputs": [
        {
          "output_type": "stream",
          "name": "stdout",
          "text": [
            "2\n"
          ]
        }
      ]
    },
    {
      "cell_type": "code",
      "source": [
        "# mencari nilai terdekat dengan metode divide dan conquer\n",
        "arr=[2, 5, 6, 7, 8, 9]\n",
        "x = 9\n",
        "def closestNumber(arr,low,high,x):\n",
        "    if low>high:\n",
        "        return -1\n",
        "    if arr[high]<=x:\n",
        "        return arr[high]\n",
        "    if arr[low]>=x:\n",
        "        return arr[mid]\n",
        "    abs_mid=abs(arr[mid-1]-x)\n",
        "    if mid>0:\n",
        "        abs_left=abs(arr[mid-1]-x)\n",
        "        if abs_left<abs_mid:\n",
        "            return closestNumber(arr,low,mid-1,x)\n",
        "        if mid<high:\n",
        "            abs_right=abs(arr[mid+1], high,x)\n",
        "            if abs_right<abs_mid:\n",
        "                return closestNumber(arr, mid+1, high,x)\n",
        "#print ('after')\n",
        "        return arr[mid]\n",
        "print(closestNumber(arr,0,len(arr)-1,x))\n"
      ],
      "metadata": {
        "colab": {
          "base_uri": "https://localhost:8080/"
        },
        "id": "H_rKk5_8lSZY",
        "outputId": "09395289-29f0-4529-bb59-65657f9efe8f"
      },
      "execution_count": 96,
      "outputs": [
        {
          "output_type": "stream",
          "name": "stdout",
          "text": [
            "9\n"
          ]
        }
      ]
    },
    {
      "cell_type": "code",
      "source": [
        "def find_closest(lst, k):\n",
        "    lst.sort()\n",
        "    closest_num = lst[0]\n",
        "    for num in lst:\n",
        "        if abs(num - k) < abs(closest_num - k):\n",
        "            closest_num = num\n",
        "        if num > k:\n",
        "            break\n",
        "    return closest_num\n",
        "\n",
        "lst = [3.64, 5.2, 9.42, 9.35, 8.5, 8]\n",
        "k = 9.1\n",
        "print(find_closest(lst, k))\n",
        "lst = [2, 5, 5, 7, 8, 8, 9]\n",
        "k = 6\n",
        "print(find_closest(lst, k))"
      ],
      "metadata": {
        "id": "MpvqFohr3ZpT"
      },
      "execution_count": null,
      "outputs": []
    },
    {
      "cell_type": "code",
      "source": [
        "# mencari fixed point dengan metode divide dan conque\n",
        "\n",
        "arr=[9,1,4,5,2]\n",
        "def fixedPoint(arr,low,high):\n",
        "    if low>high:\n",
        "        return -1\n",
        "    if arr[high]==high:\n",
        "        return arr[high]\n",
        "    if arr[low]==low:\n",
        "        return arr[low]\n",
        "    mid=(low+high)//2\n",
        "    if arr[mid]==mid:\n",
        "        return arr[mid]\n",
        "    if mid>arr[mid]:\n",
        "        return fixedPoint(arr,mid+1, high)\n",
        "    else:\n",
        "        return fixedPoint(arr, low, mid-1)\n",
        "print(fixedPoint(arr,0,len(arr)-1))"
      ],
      "metadata": {
        "colab": {
          "base_uri": "https://localhost:8080/"
        },
        "id": "CMViw3zL0I6I",
        "outputId": "12bd28fa-3072-4967-b76f-801060badded"
      },
      "execution_count": 105,
      "outputs": [
        {
          "output_type": "stream",
          "name": "stdout",
          "text": [
            "1\n"
          ]
        }
      ]
    }
  ]
}