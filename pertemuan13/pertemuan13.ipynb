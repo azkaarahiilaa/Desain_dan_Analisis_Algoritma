{
  "nbformat": 4,
  "nbformat_minor": 0,
  "metadata": {
    "colab": {
      "provenance": []
    },
    "kernelspec": {
      "name": "python3",
      "display_name": "Python 3"
    },
    "language_info": {
      "name": "python"
    }
  },
  "cells": [
    {
      "cell_type": "markdown",
      "source": [
        "Nama : Azkaa Rahiila H\n",
        "NIM : 2022071052\n",
        "tugas pertemuan 13\n",
        "\n",
        "\n",
        "\n"
      ],
      "metadata": {
        "id": "KfVz5hrOWr3h"
      }
    },
    {
      "cell_type": "code",
      "execution_count": 80,
      "metadata": {
        "id": "NdpUPgjGWG5x"
      },
      "outputs": [],
      "source": [
        "def bfs(graph, start):\n",
        "  visited=[]\n",
        "  queue = []\n",
        "  queue = [start]\n",
        "  while queue:\n",
        "    node = queue.pop (0)\n",
        "    if node not in visited:\n",
        "      visited.append(node)\n",
        "      neighbours = graph [node]\n",
        "      for neighbour in neighbours:\n",
        "        queue.append(neighbour)\n",
        "  return visited\n"
      ]
    },
    {
      "cell_type": "code",
      "source": [
        "graph = {'Amin': ['Wasim','Nick', 'Mike'],\n",
        "         'Wasim': ['Imran', 'Amin'],\n",
        "         'Imran': ['Wasim', 'Faras'],\n",
        "         'Faras': ['Imran'],\n",
        "         'Mike' : ['Amin'],\n",
        "         'Nick': ['Amin']\n",
        "         }"
      ],
      "metadata": {
        "id": "ufEUFCgn2tkv"
      },
      "execution_count": 76,
      "outputs": []
    },
    {
      "cell_type": "code",
      "source": [
        "# O Amin -----------------\n",
        "# |          |          |\n",
        "# O Wasim    O Nike     O Mike\n",
        "# |\n",
        "# O Imran\n",
        "# |\n",
        "# O Faras\n",
        "\n",
        "bfs(graph, 'Amin')"
      ],
      "metadata": {
        "colab": {
          "base_uri": "https://localhost:8080/",
          "height": 0
        },
        "id": "wDKt83jk13U6",
        "outputId": "a6b7bc65-9a32-49c8-f28e-5aa076214dad"
      },
      "execution_count": 77,
      "outputs": [
        {
          "output_type": "execute_result",
          "data": {
            "text/plain": [
              "['Amin', 'Wasim', 'Nick', 'Mike', 'Imran', 'Faras']"
            ]
          },
          "metadata": {},
          "execution_count": 77
        }
      ]
    },
    {
      "cell_type": "code",
      "source": [
        "# O Amin -----------------\n",
        "# |          |          |\n",
        "# O Wasim    O Nike     O Mike\n",
        "# |\n",
        "# O Imran\n",
        "# |\n",
        "# O Faras\n",
        "\n",
        "bfs(graph, 'Wasim')"
      ],
      "metadata": {
        "colab": {
          "base_uri": "https://localhost:8080/",
          "height": 0
        },
        "id": "r38x09xm26Hf",
        "outputId": "7ce51b7e-ddb6-4ba6-95ea-cb0ea9fe33c6"
      },
      "execution_count": 78,
      "outputs": [
        {
          "output_type": "execute_result",
          "data": {
            "text/plain": [
              "['Wasim', 'Imran', 'Amin', 'Faras', 'Nick', 'Mike']"
            ]
          },
          "metadata": {},
          "execution_count": 78
        }
      ]
    },
    {
      "cell_type": "code",
      "source": [
        "# O Amin -----------------\n",
        "# |          |          |\n",
        "# O Wasim    O Nike     O Mike\n",
        "# |\n",
        "# O Imran\n",
        "# |\n",
        "# O Faras\n",
        "\n",
        "bfs(graph, 'Faras')"
      ],
      "metadata": {
        "colab": {
          "base_uri": "https://localhost:8080/",
          "height": 0
        },
        "id": "6uxueOqf29MY",
        "outputId": "612b55c5-1f94-49e1-b85a-e6d0cc5bbd8e"
      },
      "execution_count": 79,
      "outputs": [
        {
          "output_type": "execute_result",
          "data": {
            "text/plain": [
              "['Faras', 'Imran', 'Wasim', 'Amin', 'Nick', 'Mike']"
            ]
          },
          "metadata": {},
          "execution_count": 79
        }
      ]
    },
    {
      "cell_type": "code",
      "source": [
        "def bfs(graph, start):\n",
        "  visited=[]\n",
        "  queue = []\n",
        "  queue = [start]\n",
        "  while queue:\n",
        "    node = queue.pop (0)\n",
        "    if node not in visited:\n",
        "      visited.append(node)\n",
        "      neighbours = graph [node]\n",
        "      for neighbour in neighbours:\n",
        "        queue.append(neighbour)\n",
        "  return visited\n",
        "\n",
        "#Finding the Shorted Path on unweight graph\n",
        "graph = { 0: [9, 7, 11],\n",
        "          1: [10, 8],\n",
        "          2: [12, 3],\n",
        "          3: [2, 4],\n",
        "          4: [3],\n",
        "          5: [6],\n",
        "          6: [5, 7],\n",
        "          7: [0, 11, 6, 3],\n",
        "          8: [1, 9, 12],\n",
        "          9: [0, 8, 10],\n",
        "          10: [1, 9],\n",
        "          11: [0, 7],\n",
        "          12: [8, 2]\n",
        "          }\n"
      ],
      "metadata": {
        "id": "xRif0QY9_ORB"
      },
      "execution_count": 81,
      "outputs": []
    },
    {
      "cell_type": "code",
      "source": [
        "graph = { 'rektor' :['warek 1', 'warek 2'],\n",
        "          'warek 2' : ['kaprodi 1', 'kaprodi 2', 'kaprodin3'],\n",
        "          'kaprodi 1' : ['dosen A', 'dosen B', 'dosen C', 'warek 2'],\n",
        "          'kaprodi 2' : ['dosen D', 'dosen E', 'warek 2'],\n",
        "          'kaprodi 3' : ['dosen F', 'dosen G', 'warek 2'],\n",
        "          'dosen G' : ['kaprodi 3'],\n",
        "          'dosen F' : ['kaprodi 3'],\n",
        "          'dosen D' : ['kaprodi 2'],\n",
        "          'dosen E' : ['kaprodi 2'],\n",
        "          'dosen C' : ['kaprodi 1'],\n",
        "          'dosen B' : ['kaprodi 1'],\n",
        "          'dosen A' : ['kaprodi 1']\n",
        "          }\n",
        "#BFS"
      ],
      "metadata": {
        "id": "RUp6gcks_o2C"
      },
      "execution_count": 82,
      "outputs": []
    },
    {
      "cell_type": "markdown",
      "source": [
        "DFS"
      ],
      "metadata": {
        "id": "pdZswFAy_MaG"
      }
    },
    {
      "cell_type": "code",
      "source": [
        "def dfs(visited, graph, node):\n",
        "    if node not in visited:\n",
        "        print(node)\n",
        "        visited.add(node)\n",
        "        for neighbour in graph[node]:\n",
        "            dfs(visited, graph, neighbour)"
      ],
      "metadata": {
        "id": "0N9JJ0vY_u6n"
      },
      "execution_count": 83,
      "outputs": []
    },
    {
      "cell_type": "code",
      "source": [
        "graph = {'Amin': ['Wasim','Nick', 'Mike'],\n",
        "         'Wasim': ['Imran', 'Amin'],\n",
        "         'Imran': ['Wasim', 'Faras'],\n",
        "         'Faras': ['Imran'],\n",
        "         'Mike' : ['Amin'],\n",
        "         'Nick': ['Amin']\n",
        "         }"
      ],
      "metadata": {
        "id": "tXUN0fTlYmKJ"
      },
      "execution_count": 75,
      "outputs": []
    },
    {
      "cell_type": "code",
      "source": [
        "dfs(graph, 'Amin')"
      ],
      "metadata": {
        "colab": {
          "base_uri": "https://localhost:8080/"
        },
        "id": "gy3q9cF1Y6El",
        "outputId": "cda08033-a29b-4c01-f3f7-2f85fdd87030"
      },
      "execution_count": null,
      "outputs": [
        {
          "output_type": "execute_result",
          "data": {
            "text/plain": [
              "['Amin', 'Wasim', 'Nick', 'Mike', 'Imran', 'Faras']"
            ]
          },
          "metadata": {},
          "execution_count": 34
        }
      ]
    },
    {
      "cell_type": "code",
      "source": [
        "graph = { 'rektor' :['warek 1', 'warek 2'],\n",
        "          'warek 2' : ['kaprodi 1', 'kaprodi 2', 'kaprodin3'],\n",
        "          'kaprodi 1' : ['dosen A', 'dosen B', 'dosen C', 'warek 2'],\n",
        "          'kaprodi 2' : ['dosen D', 'dosen E', 'warek 2'],\n",
        "          'kaprodi 3' : ['dosen F', 'dosen G', 'warek 2'],\n",
        "          'dosen G' : ['kaprodi 3'],\n",
        "          'dosen F' : ['kaprodi 3'],\n",
        "          'dosen D' : ['kaprodi 2'],\n",
        "          'dosen E' : ['kaprodi 2'],\n",
        "          'dosen C' : ['kaprodi 1'],\n",
        "          'dosen B' : ['kaprodi 1'],\n",
        "          'dosen A' : ['kaprodi 1']\n",
        "          }\n",
        "#BFS"
      ],
      "metadata": {
        "id": "N2CrmUMU3Mmk"
      },
      "execution_count": null,
      "outputs": []
    },
    {
      "cell_type": "code",
      "source": [
        "def dfs(visited, graph, node):\n",
        "    if node not in visited:\n",
        "        print(node)\n",
        "        visited.add(node)\n",
        "        for neighbour in graph[node]:\n",
        "            dfs(visited, graph, neighbour)\n",
        "\n",
        "# Definisi graph\n",
        "graph = {\n",
        "    'Amin': ['Wasim', 'Nick', 'Mike'],\n",
        "    'Wasim': ['Imran', 'Amin'],\n",
        "    'Imran': ['Wasim', 'Faras'],\n",
        "    'Faras': ['Imran'],\n",
        "    'Nick': [],\n",
        "    'Mike': []\n",
        "}\n",
        "\n",
        "# Set visited awal\n",
        "visited = set()\n",
        "\n",
        "# Panggil fungsi DFS\n",
        "dfs(visited, graph, 'Amin')\n"
      ],
      "metadata": {
        "colab": {
          "base_uri": "https://localhost:8080/"
        },
        "id": "9-fAjjwegTqr",
        "outputId": "341dbf1e-1ecd-4c46-83b7-51d90e8915e0"
      },
      "execution_count": null,
      "outputs": [
        {
          "output_type": "stream",
          "name": "stdout",
          "text": [
            "Amin\n",
            "Wasim\n",
            "Imran\n",
            "Faras\n",
            "Nick\n",
            "Mike\n"
          ]
        }
      ]
    },
    {
      "cell_type": "code",
      "source": [
        "def dfs(visited, graph, node):\n",
        "    if node not in visited:\n",
        "        print(node)\n",
        "        visited.add(node)\n",
        "        for neighbour in graph[node]:\n",
        "            dfs(visited, graph, neighbour)\n",
        "\n",
        "# Definisi graph\n",
        "graph = {\n",
        "    'Amin': ['Wasim', 'Nick', 'Mike'],\n",
        "    'Wasim': ['Imran', 'Amin'],\n",
        "    'Imran': ['Wasim', 'Faras'],\n",
        "    'Faras': ['Imran'],\n",
        "    'Nick': ['Amin'],\n",
        "    'Mike': ['Amin']\n",
        "}\n",
        "\n",
        "# Set visited awal\n",
        "visited = set()\n",
        "\n",
        "# Panggil fungsi DFS\n",
        "dfs(visited, graph, 'Wasim')"
      ],
      "metadata": {
        "colab": {
          "base_uri": "https://localhost:8080/"
        },
        "id": "nc94ZEXGhwFS",
        "outputId": "381c656e-bcf4-4d19-a7ad-b774b6db0b5d"
      },
      "execution_count": null,
      "outputs": [
        {
          "output_type": "stream",
          "name": "stdout",
          "text": [
            "Wasim\n",
            "Imran\n",
            "Faras\n",
            "Amin\n",
            "Nick\n",
            "Mike\n"
          ]
        }
      ]
    },
    {
      "cell_type": "code",
      "source": [
        "def dfs(visited, graph, node):\n",
        "    if node not in visited:\n",
        "        print(node)\n",
        "        visited.add(node)\n",
        "        for neighbour in graph[node]:\n",
        "            dfs(visited, graph, neighbour)\n",
        "\n",
        "# Definisi graph\n",
        "graph = {\n",
        "    'Amin': ['Wasim', 'Nick', 'Mike'],\n",
        "    'Wasim': ['Imran', 'Amin'],\n",
        "    'Imran': ['Wasim', 'Faras'],\n",
        "    'Faras': ['Imran'],\n",
        "    'Nick': ['Amin'],\n",
        "    'Mike': ['Amin']\n",
        "}\n",
        "\n",
        "# Set visited awal\n",
        "visited = set()\n",
        "\n",
        "# Panggil fungsi DFS\n",
        "dfs(visited, graph, 'Faras')"
      ],
      "metadata": {
        "colab": {
          "base_uri": "https://localhost:8080/"
        },
        "id": "qg5TWloDhf2T",
        "outputId": "7f83a54c-bac5-4788-8757-f0b18b395da5"
      },
      "execution_count": null,
      "outputs": [
        {
          "output_type": "stream",
          "name": "stdout",
          "text": [
            "Faras\n",
            "Imran\n",
            "Wasim\n",
            "Amin\n",
            "Nick\n",
            "Mike\n"
          ]
        }
      ]
    },
    {
      "cell_type": "code",
      "source": [
        "def dfs(visited, graph, node):\n",
        "    if node not in visited:\n",
        "        print(node)\n",
        "        visited.add(node)\n",
        "        for neighbour in graph[node]:\n",
        "            dfs(visited, graph, neighbour)\n",
        "\n",
        "# Definisi graph\n",
        "graph = {\n",
        "    'Amin': ['Wasim', 'Nick', 'Mike'],\n",
        "    'Wasim': ['Imran', 'Amin'],\n",
        "    'Imran': ['Wasim', 'Faras'],\n",
        "    'Faras': ['Imran'],\n",
        "    'Nick': ['Amin'],\n",
        "    'Mike': ['Amin']\n",
        "}\n",
        "\n",
        "# Set visited awal\n",
        "visited = set()\n",
        "\n",
        "# Panggil fungsi DFS\n",
        "dfs(visited, graph, 'Nick')"
      ],
      "metadata": {
        "colab": {
          "base_uri": "https://localhost:8080/"
        },
        "id": "0yv55UYuh91P",
        "outputId": "7889b60e-cf59-4e3f-9bf0-1ba3f10fbed5"
      },
      "execution_count": null,
      "outputs": [
        {
          "output_type": "stream",
          "name": "stdout",
          "text": [
            "Nick\n",
            "Amin\n",
            "Wasim\n",
            "Imran\n",
            "Faras\n",
            "Mike\n"
          ]
        }
      ]
    },
    {
      "cell_type": "markdown",
      "source": [
        "![image.png](data:image/png;base64,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)"
      ],
      "metadata": {
        "id": "79ThWt9tp_UW"
      }
    },
    {
      "cell_type": "code",
      "source": [
        "def dfs(graph, start, visited=None):\n",
        "    if visited is None:\n",
        "        visited = set()\n",
        "    visited.add(start)\n",
        "    print(start)\n",
        "    for neighbor in graph[start]:\n",
        "        if neighbor not in visited:\n",
        "            dfs(graph, neighbor, visited)\n",
        "\n",
        "#Finding the Shorted Path on unweight graph\n",
        "graph = { 0: [9, 7, 11],\n",
        "          1: [10, 8],\n",
        "          2: [12, 3],\n",
        "          3: [2, 4],\n",
        "          4: [3],\n",
        "          5: [6],\n",
        "          6: [5, 7],\n",
        "          7: [0, 11, 6, 3],\n",
        "          8: [1, 9, 12],\n",
        "          9: [0, 8, 10],\n",
        "          10: [1, 9],\n",
        "          11: [0, 7],\n",
        "          12: [8, 2]\n",
        "          }\n",
        "\n"
      ],
      "metadata": {
        "id": "DRaDkAjHaoLP"
      },
      "execution_count": null,
      "outputs": []
    },
    {
      "cell_type": "code",
      "source": [
        "dfs(graph, 11)"
      ],
      "metadata": {
        "colab": {
          "base_uri": "https://localhost:8080/"
        },
        "id": "_-lCYr6caoGQ",
        "outputId": "8f83511a-03b1-4e98-d6c6-5cc6fc1cabe3"
      },
      "execution_count": null,
      "outputs": [
        {
          "output_type": "stream",
          "name": "stdout",
          "text": [
            "11\n",
            "0\n",
            "9\n",
            "8\n",
            "1\n",
            "10\n",
            "12\n",
            "2\n",
            "3\n",
            "4\n",
            "7\n",
            "6\n",
            "5\n"
          ]
        }
      ]
    },
    {
      "cell_type": "markdown",
      "source": [
        "TUGAS :\n",
        "lakukan analisa terhadap algoritma BFS dan DFS. bandingkan hasil dengan 3 data graph (amin, rektor, dan titik 0). bagaimana kesimpulannya?\n",
        "1. Kesimpulannya, proses DFS bergerak secara rekursif ke bawah hingga mencapai ujung satu cabang, kemudian melakukan backtracking untuk menjelajahi cabang-cabang lainnya. Ini menciptakan urutan kunjungan yang mirip dengan penjelajahan pohon atau struktur grafik menggunakan metode DFS.\n",
        "2. Perbedaan utama antara DFS dan BFS adalah bahwa setelah memulai dari simpul akar (root vertex), algoritma DFS akan menelusuri simpul sedalam mungkin pada setiap jalur tunggal yang unik secara berurutan.\n",
        "Untuk setiap jalur, setelah mencapai kedalaman maksimal, algoritma akan menandai semua simpul yang terkait dengan jalur tersebut sebagai telah dikunjungi.\n",
        "3. Algoritma Breadth-first Search (BFS) adalah algoritma pencarian yang dimulai dari simpul awal dan bergerak melebar, mengunjungi semua simpul yang bertetangga dengan simpul saat ini terlebih dahulu sebelum mengunjungi simpul yang lebih jauh.\n",
        "\n"
      ],
      "metadata": {
        "id": "9if7I5Nc-KdG"
      }
    }
  ]
}